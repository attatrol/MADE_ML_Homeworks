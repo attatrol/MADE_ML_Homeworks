{
  "nbformat": 4,
  "nbformat_minor": 0,
  "metadata": {
    "colab": {
      "name": "Godyaev_Andrew_ML_HW1.ipynb",
      "provenance": [],
      "collapsed_sections": []
    },
    "kernelspec": {
      "name": "python3",
      "display_name": "Python 3"
    }
  },
  "cells": [
    {
      "cell_type": "markdown",
      "metadata": {
        "id": "rqp8cpayH13O",
        "colab_type": "text"
      },
      "source": [
        "Пусть события   \n",
        "$A$ - вероятность того, что случайный человек из популяции - убийца,  \n",
        "$\\overline{A}$ - вероятность того, что случайный человек из популяции - не убийца,  \n",
        "$a$ - вероятность того, что подозреваемый - убийца,   \n",
        "$\\overline{a}$ - вероятность того, что подозреваемый - не убийца,  \n",
        "$B$ - вероятность того, что человек из популяции имеет редкую группу крови,  \n",
        "$\\overline{B}$ - любая другая группа крови"
      ]
    },
    {
      "cell_type": "markdown",
      "metadata": {
        "id": "7OnlMfmhI5YE",
        "colab_type": "text"
      },
      "source": [
        "Также известно, что $P(B|A) = 1$ и $P(B) = 0.01, P(\\overline{B}) = 0.99 $"
      ]
    },
    {
      "cell_type": "markdown",
      "metadata": {
        "id": "ABaWkl8D-9XZ",
        "colab_type": "text"
      },
      "source": [
        "### Задача 1"
      ]
    },
    {
      "cell_type": "markdown",
      "metadata": {
        "id": "zP2gyhe0aor4",
        "colab_type": "text"
      },
      "source": [
        "Пусть изначальная вероятность того, что подозреваемый - убийца $P(a) = k$,  \n",
        "а с учетом того, что кровь убийцы и продозреваемого совпадает, эта вероятность выросла на $m$, т.е. $P(a|B) = k + m$  \n",
        "Прокурор утверждает:  \n",
        "$1. P(B|\\overline{a}) = 0.01$  \n",
        "$2. P(B|\\overline{a}) = 0.01 \\Rightarrow P(a|B) = 0.99$  \n",
        "<br>\n",
        "\n",
        "Вычислим $P(B|\\overline{a})$:  \n",
        "$P(a|B) = \\frac{P(B|a)P(a)}{P(B)} \\Rightarrow k + m = \\frac{k~P(B|a)}{0.01} \\Rightarrow P(B|a) = \\frac{k +m}{100~k}~~~(1)$  \n",
        "$P(a|B) = \\frac{P(B|a)P(a)}{P(B)} = \\frac{P(B|a)P(a)}{P(B|a)P(a) + P(B|\\overline{a})P(\\overline{a})}$  \n",
        "$k + m = \\frac{P(B|a)k}{P(B|a)k + P(B|\\overline{a})(1 - k)}$  \n",
        "$(k + m)(P(B|a)k + P(B|\\overline{a})(1 - k)) = P(B|a)k$  \n",
        "$(k + m)P(B|\\overline{a})(1 - k) = P(B|a)k(1 - k - m)$  \n",
        "$P(B|\\overline{a}) = \\frac{P(B|a)k(1 - k - m)}{(k + m)(1 - k)}$  \n",
        "$P(B|\\overline{a}) = \\frac{\\frac{k +m}{100~k}k(1 - k - m)}{(k + m)(1 - k)} = \\frac{1 - k - m}{100~(1 - k)}~~~~ (2)$  \n",
        "<br>\n",
        "Если верить прокурору, что $P(B|\\overline{a}) = 0.01$, тогда из (2) следует, что $m = 0$, т.е. для прокурора факт того, что у подсудимого - редкая группа крови, не имеет никакого значения, т.е. $P(a|B) = P(a) = k$.  \n",
        "<br>\n",
        "Основная ошибка - импликация $P(B|\\overline{a}) = 0.01 \\Rightarrow P(a|B) = 0.99$.  \n",
        "Непонятно, как был сделан такой вывод."
      ]
    },
    {
      "cell_type": "markdown",
      "metadata": {
        "id": "zMSdTlZXm-M_",
        "colab_type": "text"
      },
      "source": [
        "Прокурор должен был показать, что $P(a|B) > P(a)$  \n",
        "\n",
        "Я могу только предположить схему рассуждений, как это сделать:\n",
        "\n",
        "Пусть популяция имеет размер $N$, число людей с редкой группой крови в ней $M$,  \n",
        "тогда если подозревать всех одинаково, то  \n",
        "$P(A) = \\frac{1}{N}$  \n",
        "$P(B) = \\frac{M}{N}$  \n",
        "$P(A|B)P(B) = P(B|A)P(A)$   \n",
        "$P(A|B)\\frac{M}{N} = P(B|A)\\frac{1}{N}$  \n",
        "$P(A|B)\\frac{M}{N} = 1~\\frac{1}{N}$  \n",
        "$P(A|B) = \\frac{1}{M}~~~(3)$  \n",
        "$P(A|B) > P(A)$  \n",
        "Однако как правильно перейти от $P(A|B) > P(A)$ к $P(a|B) > P(a)$ я не знаю. "
      ]
    },
    {
      "cell_type": "markdown",
      "metadata": {
        "id": "EP64JTim_GRC",
        "colab_type": "text"
      },
      "source": [
        "### Задача 2"
      ]
    },
    {
      "cell_type": "markdown",
      "metadata": {
        "id": "EAujCs90_KXu",
        "colab_type": "text"
      },
      "source": [
        "Адвокат утверждает, что $P(a|B) = \\frac{1}{M}$  \n",
        "Это - совпадает с результатом (3) из предыдущей задачи, т.е. адвокат выбрал априорное равномерное распределение $P(a) = P(A) = \\frac{1}{N}$, что означает, что нет других доказательств вины подозреваемого, кроме его группы крови, что скорее всего неправда."
      ]
    },
    {
      "cell_type": "markdown",
      "metadata": {
        "id": "AReXO8P2Cg89",
        "colab_type": "text"
      },
      "source": [
        "### Задача 3"
      ]
    },
    {
      "cell_type": "code",
      "metadata": {
        "id": "L7-RVhv9DAvi",
        "colab_type": "code",
        "colab": {}
      },
      "source": [
        "import math\n",
        "import numpy as np\n",
        "import matplotlib.pyplot as plt\n",
        "import seaborn as sns\n",
        "%matplotlib inline\n",
        "\n",
        "sns.set_style(\"whitegrid\")\n",
        "sns.set_palette(\"colorblind\")\n",
        "palette = sns.color_palette()\n",
        "figsize = (15,8)\n",
        "legend_fontsize = 16"
      ],
      "execution_count": 0,
      "outputs": []
    },
    {
      "cell_type": "code",
      "metadata": {
        "id": "iqO37NS0Ejvb",
        "colab_type": "code",
        "colab": {
          "base_uri": "https://localhost:8080/",
          "height": 487
        },
        "outputId": "f4df9774-b95d-4d7c-d155-9b44ff250728"
      },
      "source": [
        "## если data = 1, тест положительный\n",
        "def compute_posterior(data, prior_prob=0.01, tp_probability=0.95, tn_probability=0.95):\n",
        "    if data == 1:\n",
        "        return (prior_prob * tp_probability) / (prior_prob * tp_probability + (1-prior_prob) * (1-tp_probability))\n",
        "    elif data == 0:\n",
        "        return (prior_prob * (1 - tn_probability)) / (prior_prob * (1-tn_probability) + (1-prior_prob) * tn_probability)\n",
        "    else:\n",
        "        return None\n",
        "\n",
        "global_prior_prob=0.01\n",
        "\n",
        "def diagnostics_odds_ratio(tp_probability, tn_probability):\n",
        "  fp_share = compute_posterior(1, global_prior_prob, tp_probability, tn_probability)\n",
        "  tn_share = 1 - fp_share\n",
        "  tp_share = compute_posterior(0, global_prior_prob, tp_probability, tn_probability)\n",
        "  fn_share = 1 - tp_share\n",
        "  return fp_share + fn_share\n",
        "  # result = (tp_share / fn_share) / (fp_share / tn_share)\n",
        "  # if result == float(\"inf\"):\n",
        "  #   result = None\n",
        "  # else:\n",
        "  #   result = math.log(result)\n",
        "  # return result\n",
        "\n",
        "def calc_diagnostics_odds_ratio(point_num = 250):\n",
        "  result = np.ndarray(shape=(point_num, point_num))\n",
        "  probs = np.arange(0, 1, 1 / point_num)\n",
        "  for i in range(point_num):\n",
        "    for j in range(point_num):\n",
        "      result[i][j] = diagnostics_odds_ratio(probs[i], probs[j])\n",
        "  return result\n",
        "\n",
        "# vector_posterior = np.vectorize(compute_posterior, excluded=['data', 'test_success'])\n",
        "# xs = np.arange(0, 0.31, 0.01)\n",
        "# ys_one = vector_posterior(1, prior_prob=xs)\n",
        "# ys_zero = vector_posterior(0, prior_prob=xs)\n",
        "\n",
        "# fig = plt.figure(figsize=figsize)\n",
        "# ax = fig.add_subplot(111)\n",
        "# ax.plot(xs, ys_one, linewidth=2, label=r'Вероятность после положительного теста')\n",
        "# ax.plot(xs, ys_zero, linewidth=2, label='Вероятность после отрицательного теста')\n",
        "# ax.set_xlim((0.0, 0.3))\n",
        "# ax.set_xlabel('Априорная вероятность болезни', fontsize=legend_fontsize)\n",
        "# ax.legend(fontsize=legend_fontsize)\n",
        "# fig.savefig('intro1.pdf', bbox_inches='tight')\n",
        "# plt.show()\n",
        "\n",
        "\n",
        "def myplot_heatmap(Z, point_num = 250):\n",
        "    # Make the plot\n",
        "    print(Z)\n",
        "    plt.axis('equal')\n",
        "    plt.xlim((-1, 1))\n",
        "    plt.ylim((-1, 1))\n",
        "    X = np.linspace(-1, 1, point_num)\n",
        "    Y = np.linspace(-1, 1, point_num)\n",
        "    plt.pcolormesh(X, Y, Z, cmap=plt.cm.jet)\n",
        "    plt.show()\n",
        "\n",
        "myplot_heatmap(calc_diagnostics_odds_ratio())"
      ],
      "execution_count": 48,
      "outputs": [
        {
          "output_type": "stream",
          "text": [
            "[[0.00000000e+00 2.84482759e-01 4.43946188e-01 ... 9.99877331e-01\n",
            "  9.99918547e-01 9.99959435e-01]\n",
            " [4.05646601e-05 2.84523323e-01 4.43986753e-01 ... 9.99917895e-01\n",
            "  9.99959112e-01 1.00000000e+00]\n",
            " [8.14531237e-05 2.84564212e-01 4.44027641e-01 ... 9.99958784e-01\n",
            "  1.00000000e+00 1.00004089e+00]\n",
            " ...\n",
            " [4.54044118e-01 7.38526876e-01 8.97990306e-01 ... 1.45392145e+00\n",
            "  1.45396266e+00 1.45400355e+00]\n",
            " [5.56053812e-01 8.40536570e-01 1.00000000e+00 ... 1.55593114e+00\n",
            "  1.55597236e+00 1.55601325e+00]\n",
            " [7.15517241e-01 1.00000000e+00 1.15946343e+00 ... 1.71539457e+00\n",
            "  1.71543579e+00 1.71547668e+00]]\n"
          ],
          "name": "stdout"
        },
        {
          "output_type": "display_data",
          "data": {
            "image/png": "[encoded data removed]",
            "text/plain": [
              "<Figure size 432x288 with 1 Axes>"
            ]
          },
          "metadata": {
            "tags": []
          }
        }
      ]
    }
  ]
}