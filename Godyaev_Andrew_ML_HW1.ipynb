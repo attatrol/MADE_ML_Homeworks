{
  "nbformat": 4,
  "nbformat_minor": 0,
  "metadata": {
    "colab": {
      "name": "Copy of Godyaev_Andrew_ML_HW1.ipynb",
      "provenance": [],
      "collapsed_sections": []
    },
    "kernelspec": {
      "name": "python3",
      "display_name": "Python 3"
    }
  },
  "cells": [
    {
      "cell_type": "markdown",
      "metadata": {
        "id": "rqp8cpayH13O",
        "colab_type": "text"
      },
      "source": [
        "Пусть события   \n",
        "$A$ - вероятность того, что случайный человек из популяции - убийца,  \n",
        "$\\overline{A}$ - вероятность того, что случайный человек из популяции - не убийца,  \n",
        "$a$ - вероятность того, что подозреваемый - убийца,   \n",
        "$\\overline{a}$ - вероятность того, что подозреваемый - не убийца,  \n",
        "$B$ - вероятность того, что человек из популяции имеет редкую группу крови,  \n",
        "$\\overline{B}$ - любая другая группа крови"
      ]
    },
    {
      "cell_type": "markdown",
      "metadata": {
        "id": "7OnlMfmhI5YE",
        "colab_type": "text"
      },
      "source": [
        "Также известно, что $P(B|A) = 1$ и $P(B) = 0.01, P(\\overline{B}) = 0.99 $"
      ]
    },
    {
      "cell_type": "markdown",
      "metadata": {
        "id": "ABaWkl8D-9XZ",
        "colab_type": "text"
      },
      "source": [
        "### Задача 1"
      ]
    },
    {
      "cell_type": "markdown",
      "metadata": {
        "id": "zP2gyhe0aor4",
        "colab_type": "text"
      },
      "source": [
        "Пусть изначальная вероятность того, что подозреваемый - убийца $P(a) = k$,  \n",
        "а с учетом того, что кровь убийцы и продозреваемого совпадает, эта вероятность выросла на $m$, т.е. $P(a|B) = k + m$  \n",
        "Прокурор утверждает:  \n",
        "$1. P(B|\\overline{a}) = 0.01$  \n",
        "$2. P(B|\\overline{a}) = 0.01 \\Rightarrow P(a|B) = 0.99$  \n",
        "<br>\n",
        "\n",
        "Вычислим $P(B|\\overline{a})$:  \n",
        "$P(a|B) = \\frac{P(B|a)P(a)}{P(B)} \\Rightarrow k + m = \\frac{k~P(B|a)}{0.01} \\Rightarrow P(B|a) = \\frac{k +m}{100~k}~~~(1)$  \n",
        "$P(a|B) = \\frac{P(B|a)P(a)}{P(B)} = \\frac{P(B|a)P(a)}{P(B|a)P(a) + P(B|\\overline{a})P(\\overline{a})}$  \n",
        "$k + m = \\frac{P(B|a)k}{P(B|a)k + P(B|\\overline{a})(1 - k)}$  \n",
        "$(k + m)(P(B|a)k + P(B|\\overline{a})(1 - k)) = P(B|a)k$  \n",
        "$(k + m)P(B|\\overline{a})(1 - k) = P(B|a)k(1 - k - m)$  \n",
        "$P(B|\\overline{a}) = \\frac{P(B|a)k(1 - k - m)}{(k + m)(1 - k)}$  \n",
        "$P(B|\\overline{a}) = \\frac{\\frac{k +m}{100~k}k(1 - k - m)}{(k + m)(1 - k)} = \\frac{1 - k - m}{100~(1 - k)}~~~~ (2)$  \n",
        "<br>\n",
        "Если верить прокурору, что $P(B|\\overline{a}) = 0.01$, тогда из (2) следует, что $m = 0$, т.е. для прокурора факт того, что у подсудимого - редкая группа крови, не имеет никакого значения, т.е. $P(a|B) = P(a) = k$.  \n",
        "<br>\n",
        "Основная ошибка - импликация $P(B|\\overline{a}) = 0.01 \\Rightarrow P(a|B) = 0.99$.  \n",
        "Непонятно, как был сделан такой вывод."
      ]
    },
    {
      "cell_type": "markdown",
      "metadata": {
        "id": "zMSdTlZXm-M_",
        "colab_type": "text"
      },
      "source": [
        "Прокурор должен был показать, что $P(a|B) > P(a)$  \n",
        "\n",
        "Я могу только предположить схему рассуждений, как это сделать:\n",
        "\n",
        "Пусть популяция имеет размер $N$, число людей с редкой группой крови в ней $M$,  \n",
        "тогда если подозревать всех одинаково, то  \n",
        "$P(A) = \\frac{1}{N}$  \n",
        "$P(B) = \\frac{M}{N}$  \n",
        "$P(A|B)P(B) = P(B|A)P(A)$   \n",
        "$P(A|B)\\frac{M}{N} = P(B|A)\\frac{1}{N}$  \n",
        "$P(A|B)\\frac{M}{N} = 1~\\frac{1}{N}$  \n",
        "$P(A|B) = \\frac{1}{M}~~~(3)$  \n",
        "$P(A|B) > P(A)$  \n",
        "Однако как правильно перейти от $P(A|B) > P(A)$ к $P(a|B) > P(a)$ я не знаю. "
      ]
    },
    {
      "cell_type": "markdown",
      "metadata": {
        "id": "EP64JTim_GRC",
        "colab_type": "text"
      },
      "source": [
        "### Задача 2"
      ]
    },
    {
      "cell_type": "markdown",
      "metadata": {
        "id": "EAujCs90_KXu",
        "colab_type": "text"
      },
      "source": [
        "Адвокат утверждает, что $P(a|B) = \\frac{1}{M}$  \n",
        "Это - совпадает с результатом (3) из предыдущей задачи, т.е. адвокат выбрал априорное равномерное распределение $P(a) = P(A) = \\frac{1}{N}$, что означает, что нет других доказательств вины подозреваемого, кроме его группы крови, что скорее всего неправда."
      ]
    },
    {
      "cell_type": "markdown",
      "metadata": {
        "id": "AReXO8P2Cg89",
        "colab_type": "text"
      },
      "source": [
        "### Задача 3"
      ]
    },
    {
      "cell_type": "code",
      "metadata": {
        "id": "L7-RVhv9DAvi",
        "colab_type": "code",
        "outputId": "a81af559-ecb0-4504-b011-3100aef2819e",
        "colab": {
          "base_uri": "https://localhost:8080/",
          "height": 50
        }
      },
      "source": [
        "import math\n",
        "import numpy as np\n",
        "import matplotlib.pyplot as plt\n",
        "import seaborn as sns\n",
        "%matplotlib inline\n",
        "\n",
        "sns.set_style(\"whitegrid\")\n",
        "sns.set_palette(\"colorblind\")\n",
        "palette = sns.color_palette()\n",
        "figsize = (15,8)\n",
        "legend_fontsize = 16"
      ],
      "execution_count": 0,
      "outputs": [
        {
          "output_type": "stream",
          "text": [
            "/usr/local/lib/python3.6/dist-packages/statsmodels/tools/_testing.py:19: FutureWarning: pandas.util.testing is deprecated. Use the functions in the public API at pandas.testing instead.\n",
            "  import pandas.util.testing as tm\n"
          ],
          "name": "stderr"
        }
      ]
    },
    {
      "cell_type": "markdown",
      "metadata": {
        "id": "fL_eFMlrMGmE",
        "colab_type": "text"
      },
      "source": [
        "Нужна какая-то функция ошибок:  \n",
        "1. Важно, чтобы система здравоохранения не была перегружена, поэтому сумма всех положительных кейсов - слагаемое в функции\n",
        "2. Важно не маркировать больных, поскольку больной может заразить здорового, то следует дать слагаемому fn_share мультипликативный множитель, который должен обозначать число людей, которое будет заражено в будущем из-за этого человека.  \n",
        "Контагиозность = 3, при низких значениях fn_share должно хватит 3 поколений больных 1 + 3 + 9 + 27 = 40\n",
        "\n"
      ]
    },
    {
      "cell_type": "code",
      "metadata": {
        "id": "qsHwpV2QMHiC",
        "colab_type": "code",
        "colab": {}
      },
      "source": [
        "global_prior_prob=0.01\n",
        "\n",
        "def calc_loss_function(tp_probability, tn_probability, fn_loss_multiplier=40):\n",
        "  tp_share = global_prior_prob * tp_probability\n",
        "  fn_share = global_prior_prob * (1 - tp_probability)\n",
        "  tn_share = (1 - global_prior_prob) * tn_probability\n",
        "  fp_share = (1 - global_prior_prob) * (1 - tn_probability)\n",
        "  return tp_share + fp_share + fn_loss_multiplier * fn_share"
      ],
      "execution_count": 0,
      "outputs": []
    },
    {
      "cell_type": "code",
      "metadata": {
        "id": "iqO37NS0Ejvb",
        "colab_type": "code",
        "outputId": "f2336097-e096-4d81-c3cf-70fd55803f73",
        "colab": {
          "base_uri": "https://localhost:8080/",
          "height": 284
        }
      },
      "source": [
        "def calc_loss_function_vectorized(point_num = 500):\n",
        "  result = np.ndarray(shape=(point_num, point_num))\n",
        "  probs = np.arange(0, 1.001, 1 / point_num)\n",
        "  for i in range(point_num):\n",
        "    for j in range(point_num):\n",
        "      result[i][j] = calc_loss_function(tp_probability = probs[i], tn_probability = probs[j])\n",
        "  return result\n",
        "\n",
        "def myplot_heatmap(Z, point_num = 500):\n",
        "    # Make the plot\n",
        "    plt.axis('equal')\n",
        "    plt.xlim((0, 1))\n",
        "    plt.ylim((0, 1))\n",
        "    X = np.linspace(0, 1, point_num)\n",
        "    Y = np.linspace(0, 1, point_num)\n",
        "    plt.pcolormesh(X, Y, Z, cmap=plt.cm.jet)\n",
        "    plt.xlabel(\"tp_probability\")\n",
        "    plt.ylabel(\"tn_probability\")\n",
        "    plt.show()\n",
        "\n",
        "myplot_heatmap(calc_loss_function_vectorized())"
      ],
      "execution_count": 0,
      "outputs": [
        {
          "output_type": "display_data",
          "data": {
            "image/png": "[encoded data removed]",
            "text/plain": [
              "<Figure size 432x288 with 1 Axes>"
            ]
          },
          "metadata": {
            "tags": []
          }
        }
      ]
    },
    {
      "cell_type": "markdown",
      "metadata": {
        "id": "k3JkrMOiUBWu",
        "colab_type": "text"
      },
      "source": [
        "Из того, что градиент функции ошибок вдоль оси x (вероятность ложноположительных ошибок) изменяется быстрее,  \n",
        "то выгоднее улучшать (снижать) false positives"
      ]
    }
  ]
}