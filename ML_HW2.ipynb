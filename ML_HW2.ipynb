{
  "nbformat": 4,
  "nbformat_minor": 0,
  "metadata": {
    "colab": {
      "name": "ML_HW2.ipynb",
      "provenance": [],
      "collapsed_sections": [],
      "authorship_tag": "ABX9TyO2211X4r7QLf07YC3LfwFI",
      "include_colab_link": true
    },
    "kernelspec": {
      "name": "python3",
      "display_name": "Python 3"
    }
  },
  "cells": [
    {
      "cell_type": "markdown",
      "metadata": {
        "id": "view-in-github",
        "colab_type": "text"
      },
      "source": [
        "<a href=\"https://colab.research.google.com/github/attatrol/MADE_ML_Homeworks/blob/master/ML_HW2.ipynb\" target=\"_parent\"><img src=\"https://colab.research.google.com/assets/colab-badge.svg\" alt=\"Open In Colab\"/></a>"
      ]
    },
    {
      "cell_type": "code",
      "metadata": {
        "id": "VyZM11XbjgjU",
        "colab_type": "code",
        "colab": {}
      },
      "source": [
        "import pandas as pd\n",
        "import numpy as np\n",
        "import datetime\n",
        "import matplotlib\n",
        "import matplotlib.pyplot as plt\n",
        "import math\n",
        "from sklearn import linear_model\n",
        "import random"
      ],
      "execution_count": 0,
      "outputs": []
    },
    {
      "cell_type": "code",
      "metadata": {
        "colab_type": "code",
        "outputId": "04dac6bb-44e1-4943-862c-e29811655a11",
        "id": "By6arLk5kpWn",
        "colab": {
          "base_uri": "https://localhost:8080/",
          "height": 208
        }
      },
      "source": [
        "try:\n",
        "    with open('../../datasets/covid/owid-covid-data.csv', 'r') as iofile:\n",
        "        data = pd.read_csv('owid-covid-data.csv')\n",
        "except FileNotFoundError:\n",
        "    !wget https://raw.githubusercontent.com/owid/covid-19-data/master/public/data/owid-covid-data.csv -nc\n",
        "    with open('owid-covid-data.csv', 'r') as iofile:\n",
        "        data = pd.read_csv('owid-covid-data.csv')\n",
        "\n",
        "data['date'] = pd.to_datetime(data['date'], format='%Y-%m-%d')"
      ],
      "execution_count": 2,
      "outputs": [
        {
          "output_type": "stream",
          "text": [
            "--2020-05-13 06:58:11--  https://raw.githubusercontent.com/owid/covid-19-data/master/public/data/owid-covid-data.csv\n",
            "Resolving raw.githubusercontent.com (raw.githubusercontent.com)... 151.101.0.133, 151.101.64.133, 151.101.128.133, ...\n",
            "Connecting to raw.githubusercontent.com (raw.githubusercontent.com)|151.101.0.133|:443... connected.\n",
            "HTTP request sent, awaiting response... 200 OK\n",
            "Length: 2647230 (2.5M) [text/plain]\n",
            "Saving to: ‘owid-covid-data.csv’\n",
            "\n",
            "\rowid-covid-data.csv   0%[                    ]       0  --.-KB/s               \rowid-covid-data.csv 100%[===================>]   2.52M  --.-KB/s    in 0.07s   \n",
            "\n",
            "2020-05-13 06:58:11 (37.4 MB/s) - ‘owid-covid-data.csv’ saved [2647230/2647230]\n",
            "\n"
          ],
          "name": "stdout"
        }
      ]
    },
    {
      "cell_type": "code",
      "metadata": {
        "id": "OTpbFfuOlBLf",
        "colab_type": "code",
        "outputId": "bc2a9c03-cb9a-44c1-cd5f-7ab6bef42861",
        "colab": {
          "base_uri": "https://localhost:8080/",
          "height": 309
        }
      },
      "source": [
        "data.head()"
      ],
      "execution_count": 3,
      "outputs": [
        {
          "output_type": "execute_result",
          "data": {
            "text/html": [
              "<div>\n",
              "<style scoped>\n",
              "    .dataframe tbody tr th:only-of-type {\n",
              "        vertical-align: middle;\n",
              "    }\n",
              "\n",
              "    .dataframe tbody tr th {\n",
              "        vertical-align: top;\n",
              "    }\n",
              "\n",
              "    .dataframe thead th {\n",
              "        text-align: right;\n",
              "    }\n",
              "</style>\n",
              "<table border=\"1\" class=\"dataframe\">\n",
              "  <thead>\n",
              "    <tr style=\"text-align: right;\">\n",
              "      <th></th>\n",
              "      <th>iso_code</th>\n",
              "      <th>location</th>\n",
              "      <th>date</th>\n",
              "      <th>total_cases</th>\n",
              "      <th>new_cases</th>\n",
              "      <th>total_deaths</th>\n",
              "      <th>new_deaths</th>\n",
              "      <th>total_cases_per_million</th>\n",
              "      <th>new_cases_per_million</th>\n",
              "      <th>total_deaths_per_million</th>\n",
              "      <th>new_deaths_per_million</th>\n",
              "      <th>total_tests</th>\n",
              "      <th>new_tests</th>\n",
              "      <th>total_tests_per_thousand</th>\n",
              "      <th>new_tests_per_thousand</th>\n",
              "      <th>tests_units</th>\n",
              "      <th>population</th>\n",
              "      <th>population_density</th>\n",
              "      <th>median_age</th>\n",
              "      <th>aged_65_older</th>\n",
              "      <th>aged_70_older</th>\n",
              "      <th>gdp_per_capita</th>\n",
              "      <th>extreme_poverty</th>\n",
              "      <th>cvd_death_rate</th>\n",
              "      <th>diabetes_prevalence</th>\n",
              "      <th>female_smokers</th>\n",
              "      <th>male_smokers</th>\n",
              "      <th>handwashing_facilities</th>\n",
              "      <th>hospital_beds_per_100k</th>\n",
              "    </tr>\n",
              "  </thead>\n",
              "  <tbody>\n",
              "    <tr>\n",
              "      <th>0</th>\n",
              "      <td>ABW</td>\n",
              "      <td>Aruba</td>\n",
              "      <td>2020-03-13</td>\n",
              "      <td>2</td>\n",
              "      <td>2</td>\n",
              "      <td>0</td>\n",
              "      <td>0</td>\n",
              "      <td>18.733</td>\n",
              "      <td>18.733</td>\n",
              "      <td>0.0</td>\n",
              "      <td>0.0</td>\n",
              "      <td>NaN</td>\n",
              "      <td>NaN</td>\n",
              "      <td>NaN</td>\n",
              "      <td>NaN</td>\n",
              "      <td>NaN</td>\n",
              "      <td>106766.0</td>\n",
              "      <td>584.8</td>\n",
              "      <td>41.2</td>\n",
              "      <td>13.085</td>\n",
              "      <td>7.452</td>\n",
              "      <td>35973.781</td>\n",
              "      <td>NaN</td>\n",
              "      <td>NaN</td>\n",
              "      <td>11.62</td>\n",
              "      <td>NaN</td>\n",
              "      <td>NaN</td>\n",
              "      <td>NaN</td>\n",
              "      <td>NaN</td>\n",
              "    </tr>\n",
              "    <tr>\n",
              "      <th>1</th>\n",
              "      <td>ABW</td>\n",
              "      <td>Aruba</td>\n",
              "      <td>2020-03-20</td>\n",
              "      <td>4</td>\n",
              "      <td>2</td>\n",
              "      <td>0</td>\n",
              "      <td>0</td>\n",
              "      <td>37.465</td>\n",
              "      <td>18.733</td>\n",
              "      <td>0.0</td>\n",
              "      <td>0.0</td>\n",
              "      <td>NaN</td>\n",
              "      <td>NaN</td>\n",
              "      <td>NaN</td>\n",
              "      <td>NaN</td>\n",
              "      <td>NaN</td>\n",
              "      <td>106766.0</td>\n",
              "      <td>584.8</td>\n",
              "      <td>41.2</td>\n",
              "      <td>13.085</td>\n",
              "      <td>7.452</td>\n",
              "      <td>35973.781</td>\n",
              "      <td>NaN</td>\n",
              "      <td>NaN</td>\n",
              "      <td>11.62</td>\n",
              "      <td>NaN</td>\n",
              "      <td>NaN</td>\n",
              "      <td>NaN</td>\n",
              "      <td>NaN</td>\n",
              "    </tr>\n",
              "    <tr>\n",
              "      <th>2</th>\n",
              "      <td>ABW</td>\n",
              "      <td>Aruba</td>\n",
              "      <td>2020-03-24</td>\n",
              "      <td>12</td>\n",
              "      <td>8</td>\n",
              "      <td>0</td>\n",
              "      <td>0</td>\n",
              "      <td>112.395</td>\n",
              "      <td>74.930</td>\n",
              "      <td>0.0</td>\n",
              "      <td>0.0</td>\n",
              "      <td>NaN</td>\n",
              "      <td>NaN</td>\n",
              "      <td>NaN</td>\n",
              "      <td>NaN</td>\n",
              "      <td>NaN</td>\n",
              "      <td>106766.0</td>\n",
              "      <td>584.8</td>\n",
              "      <td>41.2</td>\n",
              "      <td>13.085</td>\n",
              "      <td>7.452</td>\n",
              "      <td>35973.781</td>\n",
              "      <td>NaN</td>\n",
              "      <td>NaN</td>\n",
              "      <td>11.62</td>\n",
              "      <td>NaN</td>\n",
              "      <td>NaN</td>\n",
              "      <td>NaN</td>\n",
              "      <td>NaN</td>\n",
              "    </tr>\n",
              "    <tr>\n",
              "      <th>3</th>\n",
              "      <td>ABW</td>\n",
              "      <td>Aruba</td>\n",
              "      <td>2020-03-25</td>\n",
              "      <td>17</td>\n",
              "      <td>5</td>\n",
              "      <td>0</td>\n",
              "      <td>0</td>\n",
              "      <td>159.227</td>\n",
              "      <td>46.831</td>\n",
              "      <td>0.0</td>\n",
              "      <td>0.0</td>\n",
              "      <td>NaN</td>\n",
              "      <td>NaN</td>\n",
              "      <td>NaN</td>\n",
              "      <td>NaN</td>\n",
              "      <td>NaN</td>\n",
              "      <td>106766.0</td>\n",
              "      <td>584.8</td>\n",
              "      <td>41.2</td>\n",
              "      <td>13.085</td>\n",
              "      <td>7.452</td>\n",
              "      <td>35973.781</td>\n",
              "      <td>NaN</td>\n",
              "      <td>NaN</td>\n",
              "      <td>11.62</td>\n",
              "      <td>NaN</td>\n",
              "      <td>NaN</td>\n",
              "      <td>NaN</td>\n",
              "      <td>NaN</td>\n",
              "    </tr>\n",
              "    <tr>\n",
              "      <th>4</th>\n",
              "      <td>ABW</td>\n",
              "      <td>Aruba</td>\n",
              "      <td>2020-03-26</td>\n",
              "      <td>19</td>\n",
              "      <td>2</td>\n",
              "      <td>0</td>\n",
              "      <td>0</td>\n",
              "      <td>177.959</td>\n",
              "      <td>18.733</td>\n",
              "      <td>0.0</td>\n",
              "      <td>0.0</td>\n",
              "      <td>NaN</td>\n",
              "      <td>NaN</td>\n",
              "      <td>NaN</td>\n",
              "      <td>NaN</td>\n",
              "      <td>NaN</td>\n",
              "      <td>106766.0</td>\n",
              "      <td>584.8</td>\n",
              "      <td>41.2</td>\n",
              "      <td>13.085</td>\n",
              "      <td>7.452</td>\n",
              "      <td>35973.781</td>\n",
              "      <td>NaN</td>\n",
              "      <td>NaN</td>\n",
              "      <td>11.62</td>\n",
              "      <td>NaN</td>\n",
              "      <td>NaN</td>\n",
              "      <td>NaN</td>\n",
              "      <td>NaN</td>\n",
              "    </tr>\n",
              "  </tbody>\n",
              "</table>\n",
              "</div>"
            ],
            "text/plain": [
              "  iso_code location  ... handwashing_facilities  hospital_beds_per_100k\n",
              "0      ABW    Aruba  ...                    NaN                     NaN\n",
              "1      ABW    Aruba  ...                    NaN                     NaN\n",
              "2      ABW    Aruba  ...                    NaN                     NaN\n",
              "3      ABW    Aruba  ...                    NaN                     NaN\n",
              "4      ABW    Aruba  ...                    NaN                     NaN\n",
              "\n",
              "[5 rows x 29 columns]"
            ]
          },
          "metadata": {
            "tags": []
          },
          "execution_count": 3
        }
      ]
    },
    {
      "cell_type": "code",
      "metadata": {
        "id": "1tsI5kF_pQGc",
        "colab_type": "code",
        "outputId": "0aac5123-7930-4035-9265-2ae252b4e2d3",
        "colab": {
          "base_uri": "https://localhost:8080/",
          "height": 35
        }
      },
      "source": [
        "print(datetime.datetime(2020, 3, 3))\n",
        "# print(data[\"date\"][0].timestamp())"
      ],
      "execution_count": 4,
      "outputs": [
        {
          "output_type": "stream",
          "text": [
            "2020-03-03 00:00:00\n"
          ],
          "name": "stdout"
        }
      ]
    },
    {
      "cell_type": "code",
      "metadata": {
        "id": "g_PqlXeflQxa",
        "colab_type": "code",
        "colab": {}
      },
      "source": [
        "def filter_data(iso_code = \"RUS\", from_date = datetime.datetime(2020, 3, 3)):\n",
        "  return data[(data['iso_code'] == iso_code) & (data['date'] >= from_date)]"
      ],
      "execution_count": 0,
      "outputs": []
    },
    {
      "cell_type": "code",
      "metadata": {
        "id": "0YCXDI7nn-Yp",
        "colab_type": "code",
        "outputId": "41d8b2c1-dc98-44c8-9034-41ff17c99601",
        "colab": {
          "base_uri": "https://localhost:8080/",
          "height": 309
        }
      },
      "source": [
        "rus_data = filter_data()\n",
        "rus_data.head()"
      ],
      "execution_count": 6,
      "outputs": [
        {
          "output_type": "execute_result",
          "data": {
            "text/html": [
              "<div>\n",
              "<style scoped>\n",
              "    .dataframe tbody tr th:only-of-type {\n",
              "        vertical-align: middle;\n",
              "    }\n",
              "\n",
              "    .dataframe tbody tr th {\n",
              "        vertical-align: top;\n",
              "    }\n",
              "\n",
              "    .dataframe thead th {\n",
              "        text-align: right;\n",
              "    }\n",
              "</style>\n",
              "<table border=\"1\" class=\"dataframe\">\n",
              "  <thead>\n",
              "    <tr style=\"text-align: right;\">\n",
              "      <th></th>\n",
              "      <th>iso_code</th>\n",
              "      <th>location</th>\n",
              "      <th>date</th>\n",
              "      <th>total_cases</th>\n",
              "      <th>new_cases</th>\n",
              "      <th>total_deaths</th>\n",
              "      <th>new_deaths</th>\n",
              "      <th>total_cases_per_million</th>\n",
              "      <th>new_cases_per_million</th>\n",
              "      <th>total_deaths_per_million</th>\n",
              "      <th>new_deaths_per_million</th>\n",
              "      <th>total_tests</th>\n",
              "      <th>new_tests</th>\n",
              "      <th>total_tests_per_thousand</th>\n",
              "      <th>new_tests_per_thousand</th>\n",
              "      <th>tests_units</th>\n",
              "      <th>population</th>\n",
              "      <th>population_density</th>\n",
              "      <th>median_age</th>\n",
              "      <th>aged_65_older</th>\n",
              "      <th>aged_70_older</th>\n",
              "      <th>gdp_per_capita</th>\n",
              "      <th>extreme_poverty</th>\n",
              "      <th>cvd_death_rate</th>\n",
              "      <th>diabetes_prevalence</th>\n",
              "      <th>female_smokers</th>\n",
              "      <th>male_smokers</th>\n",
              "      <th>handwashing_facilities</th>\n",
              "      <th>hospital_beds_per_100k</th>\n",
              "    </tr>\n",
              "  </thead>\n",
              "  <tbody>\n",
              "    <tr>\n",
              "      <th>13450</th>\n",
              "      <td>RUS</td>\n",
              "      <td>Russia</td>\n",
              "      <td>2020-03-03</td>\n",
              "      <td>3</td>\n",
              "      <td>1</td>\n",
              "      <td>0</td>\n",
              "      <td>0</td>\n",
              "      <td>0.021</td>\n",
              "      <td>0.007</td>\n",
              "      <td>0.0</td>\n",
              "      <td>0.0</td>\n",
              "      <td>NaN</td>\n",
              "      <td>NaN</td>\n",
              "      <td>NaN</td>\n",
              "      <td>NaN</td>\n",
              "      <td>NaN</td>\n",
              "      <td>145934460.0</td>\n",
              "      <td>8.823</td>\n",
              "      <td>39.6</td>\n",
              "      <td>14.178</td>\n",
              "      <td>9.393</td>\n",
              "      <td>24765.954</td>\n",
              "      <td>0.1</td>\n",
              "      <td>431.297</td>\n",
              "      <td>6.18</td>\n",
              "      <td>23.4</td>\n",
              "      <td>58.3</td>\n",
              "      <td>NaN</td>\n",
              "      <td>8.05</td>\n",
              "    </tr>\n",
              "    <tr>\n",
              "      <th>13451</th>\n",
              "      <td>RUS</td>\n",
              "      <td>Russia</td>\n",
              "      <td>2020-03-04</td>\n",
              "      <td>4</td>\n",
              "      <td>1</td>\n",
              "      <td>0</td>\n",
              "      <td>0</td>\n",
              "      <td>0.027</td>\n",
              "      <td>0.007</td>\n",
              "      <td>0.0</td>\n",
              "      <td>0.0</td>\n",
              "      <td>NaN</td>\n",
              "      <td>NaN</td>\n",
              "      <td>NaN</td>\n",
              "      <td>NaN</td>\n",
              "      <td>NaN</td>\n",
              "      <td>145934460.0</td>\n",
              "      <td>8.823</td>\n",
              "      <td>39.6</td>\n",
              "      <td>14.178</td>\n",
              "      <td>9.393</td>\n",
              "      <td>24765.954</td>\n",
              "      <td>0.1</td>\n",
              "      <td>431.297</td>\n",
              "      <td>6.18</td>\n",
              "      <td>23.4</td>\n",
              "      <td>58.3</td>\n",
              "      <td>NaN</td>\n",
              "      <td>8.05</td>\n",
              "    </tr>\n",
              "    <tr>\n",
              "      <th>13452</th>\n",
              "      <td>RUS</td>\n",
              "      <td>Russia</td>\n",
              "      <td>2020-03-05</td>\n",
              "      <td>4</td>\n",
              "      <td>0</td>\n",
              "      <td>0</td>\n",
              "      <td>0</td>\n",
              "      <td>0.027</td>\n",
              "      <td>0.000</td>\n",
              "      <td>0.0</td>\n",
              "      <td>0.0</td>\n",
              "      <td>46414.0</td>\n",
              "      <td>NaN</td>\n",
              "      <td>0.318</td>\n",
              "      <td>NaN</td>\n",
              "      <td>tests performed</td>\n",
              "      <td>145934460.0</td>\n",
              "      <td>8.823</td>\n",
              "      <td>39.6</td>\n",
              "      <td>14.178</td>\n",
              "      <td>9.393</td>\n",
              "      <td>24765.954</td>\n",
              "      <td>0.1</td>\n",
              "      <td>431.297</td>\n",
              "      <td>6.18</td>\n",
              "      <td>23.4</td>\n",
              "      <td>58.3</td>\n",
              "      <td>NaN</td>\n",
              "      <td>8.05</td>\n",
              "    </tr>\n",
              "    <tr>\n",
              "      <th>13453</th>\n",
              "      <td>RUS</td>\n",
              "      <td>Russia</td>\n",
              "      <td>2020-03-06</td>\n",
              "      <td>4</td>\n",
              "      <td>0</td>\n",
              "      <td>0</td>\n",
              "      <td>0</td>\n",
              "      <td>0.027</td>\n",
              "      <td>0.000</td>\n",
              "      <td>0.0</td>\n",
              "      <td>0.0</td>\n",
              "      <td>51366.0</td>\n",
              "      <td>4952.0</td>\n",
              "      <td>0.352</td>\n",
              "      <td>0.034</td>\n",
              "      <td>tests performed</td>\n",
              "      <td>145934460.0</td>\n",
              "      <td>8.823</td>\n",
              "      <td>39.6</td>\n",
              "      <td>14.178</td>\n",
              "      <td>9.393</td>\n",
              "      <td>24765.954</td>\n",
              "      <td>0.1</td>\n",
              "      <td>431.297</td>\n",
              "      <td>6.18</td>\n",
              "      <td>23.4</td>\n",
              "      <td>58.3</td>\n",
              "      <td>NaN</td>\n",
              "      <td>8.05</td>\n",
              "    </tr>\n",
              "    <tr>\n",
              "      <th>13454</th>\n",
              "      <td>RUS</td>\n",
              "      <td>Russia</td>\n",
              "      <td>2020-03-07</td>\n",
              "      <td>10</td>\n",
              "      <td>6</td>\n",
              "      <td>0</td>\n",
              "      <td>0</td>\n",
              "      <td>0.069</td>\n",
              "      <td>0.041</td>\n",
              "      <td>0.0</td>\n",
              "      <td>0.0</td>\n",
              "      <td>55688.0</td>\n",
              "      <td>4322.0</td>\n",
              "      <td>0.382</td>\n",
              "      <td>0.030</td>\n",
              "      <td>tests performed</td>\n",
              "      <td>145934460.0</td>\n",
              "      <td>8.823</td>\n",
              "      <td>39.6</td>\n",
              "      <td>14.178</td>\n",
              "      <td>9.393</td>\n",
              "      <td>24765.954</td>\n",
              "      <td>0.1</td>\n",
              "      <td>431.297</td>\n",
              "      <td>6.18</td>\n",
              "      <td>23.4</td>\n",
              "      <td>58.3</td>\n",
              "      <td>NaN</td>\n",
              "      <td>8.05</td>\n",
              "    </tr>\n",
              "  </tbody>\n",
              "</table>\n",
              "</div>"
            ],
            "text/plain": [
              "      iso_code location  ... handwashing_facilities  hospital_beds_per_100k\n",
              "13450      RUS   Russia  ...                    NaN                    8.05\n",
              "13451      RUS   Russia  ...                    NaN                    8.05\n",
              "13452      RUS   Russia  ...                    NaN                    8.05\n",
              "13453      RUS   Russia  ...                    NaN                    8.05\n",
              "13454      RUS   Russia  ...                    NaN                    8.05\n",
              "\n",
              "[5 rows x 29 columns]"
            ]
          },
          "metadata": {
            "tags": []
          },
          "execution_count": 6
        }
      ]
    },
    {
      "cell_type": "code",
      "metadata": {
        "id": "Z8FYyGO0vOEN",
        "colab_type": "code",
        "colab": {}
      },
      "source": [
        "def print_data(data):\n",
        "  _, ax = plt.subplots()\n",
        "  ax.plot(data['date'], data['new_cases'], label = \"cases\")\n",
        "  ax.plot(data['date'], data['new_deaths'], label = \"deaths\")\n",
        "  ax.plot(data['date'], data['new_tests'], label = \"tests\")\n",
        "  ax.set(title='Sequential')\n",
        "  ax.grid()\n",
        "  ax.set_yscale(\"log\")\n",
        "  plt.legend()\n",
        "  plt.show()\n",
        "\n",
        "  _, ax = plt.subplots()\n",
        "  ax.plot(data['date'], data['total_cases'], label = \"cases\")\n",
        "  ax.plot(data['date'], data['total_deaths'], label = \"deaths\")\n",
        "  ax.plot(data['date'], data['total_tests'], label = \"tests\")\n",
        "  ax.set(title='Cumulative')\n",
        "  ax.grid()\n",
        "  ax.set_yscale(\"log\")\n",
        "  plt.legend()\n",
        "  plt.show()"
      ],
      "execution_count": 0,
      "outputs": []
    },
    {
      "cell_type": "code",
      "metadata": {
        "id": "-Rr_gUC8x6dV",
        "colab_type": "code",
        "outputId": "6be3bd68-0814-4856-82dd-19afa096c2f8",
        "colab": {
          "base_uri": "https://localhost:8080/",
          "height": 545
        }
      },
      "source": [
        "print_data(rus_data)"
      ],
      "execution_count": 8,
      "outputs": [
        {
          "output_type": "display_data",
          "data": {
            "image/png": "[encoded data removed]",
            "text/plain": [
              "<Figure size 432x288 with 1 Axes>"
            ]
          },
          "metadata": {
            "tags": [],
            "needs_background": "light"
          }
        },
        {
          "output_type": "display_data",
          "data": {
            "image/png": "[encoded data removed]",
            "text/plain": [
              "<Figure size 432x288 with 1 Axes>"
            ]
          },
          "metadata": {
            "tags": [],
            "needs_background": "light"
          }
        }
      ]
    },
    {
      "cell_type": "markdown",
      "metadata": {
        "id": "7rhqkbfAiTXV",
        "colab_type": "text"
      },
      "source": [
        "2.a. Используя линейную регрессию, обучите модель с экспоненциальным ростом числа заболевших:  \n",
        " y ~ exp(линейная функция от x), где x — номер текущего дня.\n",
        "\n",
        " Решим эту задачу как ln (y) ~ ax + b"
      ]
    },
    {
      "cell_type": "code",
      "metadata": {
        "id": "MZR4FgLkD_CC",
        "colab_type": "code",
        "colab": {}
      },
      "source": [
        "def prepare_data(data):\n",
        "  train = data[:50]\n",
        "  test = data[50:]\n",
        "  train_y = train['total_cases'].apply(lambda x: math.log(x)).to_numpy()\n",
        "  train_x = np.asarray(range(0, train_y.size), dtype = np.int32)\n",
        "  test_y = test['total_cases'].apply(lambda x: math.log(x)).to_numpy()\n",
        "  test_x = np.asarray(range(train_y.size, test_y.size + train_y.size), dtype = np.int32)\n",
        "  return train_x, train_y, test_x, test_y"
      ],
      "execution_count": 0,
      "outputs": []
    },
    {
      "cell_type": "code",
      "metadata": {
        "id": "c4r_KoZd74d0",
        "colab_type": "code",
        "colab": {}
      },
      "source": [
        "def train_linear(data):\n",
        "  train_x, train_y, test_x, test_y = prepare_data(rus_data)\n",
        "  model = linear_model.LinearRegression(fit_intercept=True).fit(train_x.reshape(-1, 1), train_y)\n",
        "  train_tredict = model.predict(train_x.reshape(-1, 1))\n",
        "  test_predict = model.predict(test_x.reshape(-1, 1))\n",
        "\n",
        "  _, ax = plt.subplots()\n",
        "  ax.plot(test_x, test_y, label = \"test_x\")\n",
        "  ax.plot(train_x, train_y, label = \"train_x\")\n",
        "  ax.plot(test_x, test_predict, label = \"test_x_predict\")\n",
        "  ax.plot(train_x, train_tredict, label = \"train_x_tredict\")\n",
        "  ax.set(title='Sigmoid prediction')\n",
        "  ax.grid()\n",
        "  plt.legend()\n",
        "  plt.show()\n",
        "  return model"
      ],
      "execution_count": 0,
      "outputs": []
    },
    {
      "cell_type": "markdown",
      "metadata": {
        "id": "-TrmW5_mhZ5y",
        "colab_type": "text"
      },
      "source": [
        "Я решил не выходить из логарифмических координат, и в них все весьма наглядно:"
      ]
    },
    {
      "cell_type": "code",
      "metadata": {
        "id": "-jJOkTFf-uy0",
        "colab_type": "code",
        "outputId": "c4c1df97-6691-41ed-9daf-3ec917314344",
        "colab": {
          "base_uri": "https://localhost:8080/",
          "height": 281
        }
      },
      "source": [
        "rus_model = train_linear(rus_data)"
      ],
      "execution_count": 11,
      "outputs": [
        {
          "output_type": "display_data",
          "data": {
            "image/png": "[encoded data removed]",
            "text/plain": [
              "<Figure size 432x288 with 1 Axes>"
            ]
          },
          "metadata": {
            "tags": [],
            "needs_background": "light"
          }
        }
      ]
    },
    {
      "cell_type": "markdown",
      "metadata": {
        "id": "XpJw5Vs6hWYu",
        "colab_type": "text"
      },
      "source": [
        "2.b. Найдите апостериорное распределение параметров этой модели для достаточно широкого априорного распределения. Требующееся для этого значение дисперсии шума в данных оцените, исходя из вашей же максимальной апостериорной модели (это фактически первый шаг эмпирического Байеса)."
      ]
    },
    {
      "cell_type": "code",
      "metadata": {
        "id": "CQMDd8Yuor8_",
        "colab_type": "code",
        "outputId": "4323fc2d-6861-4139-a2be-9429dc8000ec",
        "colab": {
          "base_uri": "https://localhost:8080/",
          "height": 1000
        }
      },
      "source": [
        "# логарифм апостериорного распределения гиперпараметров alpha beta\n",
        "# так как p(a,b) = 1, то оно же - правдоподобие alpha и beta при условии точки данных\n",
        "def ab_posterior(alpha, beta, x, y, N):\n",
        "  A = beta * x * x + alpha\n",
        "  m_N = beta * x * y / A\n",
        "  return math.log(alpha) / 2 + math.log(beta) * N / 2 \\\n",
        "        - beta / 2 * (y - x * m_N) * (y - x * m_N) \\\n",
        "        - alpha / 2 * m_N * m_N \\\n",
        "        - math.log(abs(A)) - N / 2 * math.log(2 * 3.14)\n",
        "\n",
        "# просуммировать ab_posterior по всем точкам данных\n",
        "# используя текущую модель\n",
        "def ab_posterior_vectorized(point_num = 100):\n",
        "  probs_alpha = np.arange(0.01, 100.001, 100 / point_num)\n",
        "  probs_beta = np.arange(0.00001, 0.01001, 0.01 / point_num)\n",
        "  train_x, train_y, test_x, test_y = prepare_data(rus_data)\n",
        "  test_predict = rus_model.predict(train_x.reshape(-1, 1))\n",
        "  sq_sum = 0\n",
        "  for k in range(train_x.size):\n",
        "    sq_sum = sq_sum + (train_x[k] - test_predict[k]) * (train_x[k] - test_predict[k])\n",
        "  result = np.zeros(shape=(train_x.size + 1, point_num, point_num))\n",
        "  for i in range(point_num):\n",
        "    for j in range(point_num):\n",
        "      for k in range(train_x.size):\n",
        "        result[k][i][j] = ab_posterior(probs_alpha[i], probs_beta[j], train_x[k], train_y[k], train_x.size)\n",
        "        result[train_x.size][i][j] = result[train_x.size][i][j] + result[k][i][j]\n",
        "  return result, train_x.size, (train_x.size - 1) / sq_sum\n",
        "\n",
        "def plot_heatmap(Z, title, point_num):\n",
        "    plt.xlim((0, 100))\n",
        "    plt.ylim((0, 0.01))\n",
        "    X = np.linspace(0, 100, point_num)\n",
        "    Y = np.linspace(0, 0.01, point_num)\n",
        "    plt.pcolormesh(X, Y, Z, cmap=plt.cm.jet)\n",
        "    # print(Z)\n",
        "    plt.title(title)\n",
        "    plt.xlabel(\"alpha\")\n",
        "    plt.ylabel(\"beta\")\n",
        "    plt.show()\n",
        "\n",
        "# построить тепловую карту взаимного распределения apha и beta\n",
        "def ab_posterior_heatmap(point_num = 100):\n",
        "    Z, total_idx, current_beta = ab_posterior_vectorized(point_num)\n",
        "    print(\"Значение beta для текущей модели\", current_beta)\n",
        "\n",
        "    plot_heatmap(Z[total_idx], \"Суммарное правдоподобие\", point_num)\n",
        "    plot_heatmap(Z[0], \"Правдоподобие в начальной точке\", point_num)\n",
        "    for i in range(10, total_idx - 1, 10):\n",
        "      plot_heatmap(Z[i], \"Правдоподобие в точке N = \" + str(i), point_num)\n",
        "    plot_heatmap(Z[total_idx - 1], \"Правдоподобие в последней точке\", point_num)\n",
        "\n",
        "ab_posterior_heatmap()"
      ],
      "execution_count": 12,
      "outputs": [
        {
          "output_type": "stream",
          "text": [
            "Значение beta для текущей модели 0.0021413503258041204\n"
          ],
          "name": "stdout"
        },
        {
          "output_type": "display_data",
          "data": {
            "image/png": "[encoded data removed]",
            "text/plain": [
              "<Figure size 432x288 with 1 Axes>"
            ]
          },
          "metadata": {
            "tags": [],
            "needs_background": "light"
          }
        },
        {
          "output_type": "display_data",
          "data": {
            "image/png": "[encoded data removed]",
            "text/plain": [
              "<Figure size 432x288 with 1 Axes>"
            ]
          },
          "metadata": {
            "tags": [],
            "needs_background": "light"
          }
        },
        {
          "output_type": "display_data",
          "data": {
            "image/png": "[encoded data removed]",
            "text/plain": [
              "<Figure size 432x288 with 1 Axes>"
            ]
          },
          "metadata": {
            "tags": [],
            "needs_background": "light"
          }
        },
        {
          "output_type": "display_data",
          "data": {
            "image/png": "[encoded data removed]",
            "text/plain": [
              "<Figure size 432x288 with 1 Axes>"
            ]
          },
          "metadata": {
            "tags": [],
            "needs_background": "light"
          }
        },
        {
          "output_type": "display_data",
          "data": {
            "image/png": "[encoded data removed]",
            "text/plain": [
              "<Figure size 432x288 with 1 Axes>"
            ]
          },
          "metadata": {
            "tags": [],
            "needs_background": "light"
          }
        },
        {
          "output_type": "display_data",
          "data": {
            "image/png": "[encoded data removed]",
            "text/plain": [
              "<Figure size 432x288 with 1 Axes>"
            ]
          },
          "metadata": {
            "tags": [],
            "needs_background": "light"
          }
        },
        {
          "output_type": "display_data",
          "data": {
            "image/png": "[encoded data removed]",
            "text/plain": [
              "<Figure size 432x288 with 1 Axes>"
            ]
          },
          "metadata": {
            "tags": [],
            "needs_background": "light"
          }
        }
      ]
    },
    {
      "cell_type": "markdown",
      "metadata": {
        "id": "U2rGQr8uHUJr",
        "colab_type": "text"
      },
      "source": [
        "Как интерпретировать те факты, что   \n",
        "1. beta не имеет явно выраженного максимума, совпадающего со значение beta для текущей модели, \n",
        "2. alpha непрерывно возрастает, вместо того, чтобы иметь максимум около нуля  \n",
        "\n",
        "я не знаю. Скорее всего я посчитал что-то не так."
      ]
    },
    {
      "cell_type": "markdown",
      "metadata": {
        "id": "WH6hh2ZSCOce",
        "colab_type": "text"
      },
      "source": [
        "2.с. Посэмплируйте много разных экспонент, постройте графики. Сколько, исходя из этих сэмплов, предсказывается случаев коронавируса в России к 1 мая? к 1 июня? к 1 сентября? Постройте предсказательные распределения (можно эмпирически, исходя из данных сэмплирования)."
      ]
    },
    {
      "cell_type": "code",
      "metadata": {
        "id": "at6m-XAOznL9",
        "colab_type": "code",
        "outputId": "ef0b1104-7144-458f-9cf9-609a7a39eefd",
        "colab": {
          "base_uri": "https://localhost:8080/",
          "height": 368
        }
      },
      "source": [
        "def sample(x, y):\n",
        "  xs = []\n",
        "  ys = []\n",
        "  for i in range(x.size):\n",
        "    if random.random() > 0.8:\n",
        "      xs.append(x[i])\n",
        "      ys.append(y[i])\n",
        "  return np.asarray(xs, dtype = np.int32), np.asarray(ys)\n",
        "\n",
        "def days_between(d1, d2):\n",
        "  return abs((d2 - d1).days)\n",
        "\n",
        "def mean_variance_as_string(sample):\n",
        "  sample = np.asarray(sample)\n",
        "  return str(round(math.exp(sample.mean()))) + \"+-\" + str(math.exp(sample.mean() + sample.std()) - math.exp(sample.mean()))\n",
        "\n",
        "def sample_train_plot(data):\n",
        "  y = data['total_cases'].apply(lambda x: math.log(x)).to_numpy()\n",
        "  x = np.asarray(range(0, y.size), dtype = np.int32)\n",
        "  \n",
        "  fig = plt.figure()\n",
        "  ax = fig.add_subplot(111)\n",
        "  ax.plot(x, y, linewidth=2, label=\"Original function\", color=\"black\")\n",
        "\n",
        "  dates = [ \\\n",
        "           days_between(datetime.datetime(2020, 5, 1), datetime.datetime(2020, 3, 3)), \\\n",
        "           days_between(datetime.datetime(2020, 7, 1), datetime.datetime(2020, 3, 3)), \\\n",
        "           days_between(datetime.datetime(2020, 9, 1), datetime.datetime(2020, 3, 3)) \\\n",
        "          ]\n",
        "  date_samples = [[], [], []]\n",
        "  print(dates)\n",
        "\n",
        "  x_predict = np.asarray(range(0, 200), dtype = np.int32)\n",
        "  res = []\n",
        "  for _ in range(50):\n",
        "      xs, ys = sample(x, y)\n",
        "      model = linear_model.LinearRegression(fit_intercept=True).fit(xs.reshape(-1, 1), ys)\n",
        "      res.append(model.predict(x_predict.reshape(-1, 1)))\n",
        "      ax.plot(x_predict, res[-1], linewidth=.1, color=\"0.5\")\n",
        "      for i in range(len(dates)):\n",
        "        date_samples[i].append(res[-1][dates[i]])\n",
        "\n",
        "  ax.legend(loc=\"upper center\")\n",
        "  plt.title('Апостериорное предиктивное распределение')\n",
        "  plt.show()\n",
        "\n",
        "  print(\"Прогноз заболеваемости\")\n",
        "  print(\"1 мая \" + mean_variance_as_string(date_samples[0]))\n",
        "  print(\"1 июля \" + mean_variance_as_string(date_samples[1]))\n",
        "  print(\"1 сентября \" + mean_variance_as_string(date_samples[2]))\n",
        "\n",
        "sample_train_plot(rus_data)"
      ],
      "execution_count": 25,
      "outputs": [
        {
          "output_type": "stream",
          "text": [
            "[59, 120, 182]\n"
          ],
          "name": "stdout"
        },
        {
          "output_type": "display_data",
          "data": {
            "image/png": "[encoded data removed]",
            "text/plain": [
              "<Figure size 432x288 with 1 Axes>"
            ]
          },
          "metadata": {
            "tags": [],
            "needs_background": "light"
          }
        },
        {
          "output_type": "stream",
          "text": [
            "Прогноз заболеваемости\n",
            "1 мая 151444+-55353.309688064124\n",
            "1 июля 2834237192+-5100286624.323775\n",
            "1 сентября 62324177727652+-313209293460576.25\n"
          ],
          "name": "stdout"
        }
      ]
    },
    {
      "cell_type": "markdown",
      "metadata": {
        "id": "DJ4GjhBACYxY",
        "colab_type": "text"
      },
      "source": [
        ""
      ]
    }
  ]
}