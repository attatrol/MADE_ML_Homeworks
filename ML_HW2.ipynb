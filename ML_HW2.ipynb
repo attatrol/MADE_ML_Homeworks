{
  "nbformat": 4,
  "nbformat_minor": 0,
  "metadata": {
    "colab": {
      "name": "ML_HW2.ipynb",
      "provenance": [],
      "collapsed_sections": [],
      "authorship_tag": "ABX9TyMa2sm/L6j+6zhZ9a20gL1f",
      "include_colab_link": true
    },
    "kernelspec": {
      "name": "python3",
      "display_name": "Python 3"
    }
  },
  "cells": [
    {
      "cell_type": "markdown",
      "metadata": {
        "id": "view-in-github",
        "colab_type": "text"
      },
      "source": [
        "<a href=\"https://colab.research.google.com/github/attatrol/MADE_ML_Homeworks/blob/master/ML_HW2.ipynb\" target=\"_parent\"><img src=\"https://colab.research.google.com/assets/colab-badge.svg\" alt=\"Open In Colab\"/></a>"
      ]
    },
    {
      "cell_type": "code",
      "metadata": {
        "id": "VyZM11XbjgjU",
        "colab_type": "code",
        "colab": {}
      },
      "source": [
        "import pandas as pd\n",
        "import numpy as np\n",
        "import datetime\n",
        "import matplotlib\n",
        "import matplotlib.pyplot as plt\n",
        "import math\n",
        "from sklearn import linear_model\n",
        "import random\n",
        "import scipy"
      ],
      "execution_count": 0,
      "outputs": []
    },
    {
      "cell_type": "code",
      "metadata": {
        "colab_type": "code",
        "outputId": "24bc3f3c-5e8d-4397-b771-34256986b86e",
        "id": "By6arLk5kpWn",
        "colab": {
          "base_uri": "https://localhost:8080/",
          "height": 208
        }
      },
      "source": [
        "try:\n",
        "    with open('../../datasets/covid/owid-covid-data.csv', 'r') as iofile:\n",
        "        data = pd.read_csv('owid-covid-data.csv')\n",
        "except FileNotFoundError:\n",
        "    !wget https://raw.githubusercontent.com/owid/covid-19-data/master/public/data/owid-covid-data.csv -nc\n",
        "    with open('owid-covid-data.csv', 'r') as iofile:\n",
        "        data = pd.read_csv('owid-covid-data.csv')\n",
        "\n",
        "data['date'] = pd.to_datetime(data['date'], format='%Y-%m-%d')"
      ],
      "execution_count": 6,
      "outputs": [
        {
          "output_type": "stream",
          "text": [
            "--2020-05-15 08:40:06--  https://raw.githubusercontent.com/owid/covid-19-data/master/public/data/owid-covid-data.csv\n",
            "Resolving raw.githubusercontent.com (raw.githubusercontent.com)... 151.101.0.133, 151.101.64.133, 151.101.128.133, ...\n",
            "Connecting to raw.githubusercontent.com (raw.githubusercontent.com)|151.101.0.133|:443... connected.\n",
            "HTTP request sent, awaiting response... 200 OK\n",
            "Length: 2459742 (2.3M) [text/plain]\n",
            "Saving to: ‘owid-covid-data.csv’\n",
            "\n",
            "owid-covid-data.csv 100%[===================>]   2.35M  14.1MB/s    in 0.2s    \n",
            "\n",
            "2020-05-15 08:40:07 (14.1 MB/s) - ‘owid-covid-data.csv’ saved [2459742/2459742]\n",
            "\n"
          ],
          "name": "stdout"
        }
      ]
    },
    {
      "cell_type": "code",
      "metadata": {
        "id": "OTpbFfuOlBLf",
        "colab_type": "code",
        "outputId": "ebe39e08-c45e-4bd8-8053-6e7efbde294a",
        "colab": {
          "base_uri": "https://localhost:8080/",
          "height": 309
        }
      },
      "source": [
        "data.head()"
      ],
      "execution_count": 7,
      "outputs": [
        {
          "output_type": "execute_result",
          "data": {
            "text/html": [
              "<div>\n",
              "<style scoped>\n",
              "    .dataframe tbody tr th:only-of-type {\n",
              "        vertical-align: middle;\n",
              "    }\n",
              "\n",
              "    .dataframe tbody tr th {\n",
              "        vertical-align: top;\n",
              "    }\n",
              "\n",
              "    .dataframe thead th {\n",
              "        text-align: right;\n",
              "    }\n",
              "</style>\n",
              "<table border=\"1\" class=\"dataframe\">\n",
              "  <thead>\n",
              "    <tr style=\"text-align: right;\">\n",
              "      <th></th>\n",
              "      <th>iso_code</th>\n",
              "      <th>location</th>\n",
              "      <th>date</th>\n",
              "      <th>total_cases</th>\n",
              "      <th>new_cases</th>\n",
              "      <th>total_deaths</th>\n",
              "      <th>new_deaths</th>\n",
              "      <th>total_cases_per_million</th>\n",
              "      <th>new_cases_per_million</th>\n",
              "      <th>total_deaths_per_million</th>\n",
              "      <th>new_deaths_per_million</th>\n",
              "      <th>total_tests</th>\n",
              "      <th>new_tests</th>\n",
              "      <th>total_tests_per_thousand</th>\n",
              "      <th>new_tests_per_thousand</th>\n",
              "      <th>tests_units</th>\n",
              "      <th>population</th>\n",
              "      <th>population_density</th>\n",
              "      <th>median_age</th>\n",
              "      <th>aged_65_older</th>\n",
              "      <th>aged_70_older</th>\n",
              "      <th>gdp_per_capita</th>\n",
              "      <th>extreme_poverty</th>\n",
              "      <th>cvd_death_rate</th>\n",
              "      <th>diabetes_prevalence</th>\n",
              "      <th>female_smokers</th>\n",
              "      <th>male_smokers</th>\n",
              "      <th>handwashing_facilities</th>\n",
              "      <th>hospital_beds_per_100k</th>\n",
              "    </tr>\n",
              "  </thead>\n",
              "  <tbody>\n",
              "    <tr>\n",
              "      <th>0</th>\n",
              "      <td>ABW</td>\n",
              "      <td>Aruba</td>\n",
              "      <td>2020-03-13</td>\n",
              "      <td>2</td>\n",
              "      <td>2</td>\n",
              "      <td>0</td>\n",
              "      <td>0</td>\n",
              "      <td>18.733</td>\n",
              "      <td>18.733</td>\n",
              "      <td>0.0</td>\n",
              "      <td>0.0</td>\n",
              "      <td>NaN</td>\n",
              "      <td>NaN</td>\n",
              "      <td>NaN</td>\n",
              "      <td>NaN</td>\n",
              "      <td>NaN</td>\n",
              "      <td>106766.0</td>\n",
              "      <td>584.8</td>\n",
              "      <td>41.2</td>\n",
              "      <td>13.085</td>\n",
              "      <td>7.452</td>\n",
              "      <td>35973.781</td>\n",
              "      <td>NaN</td>\n",
              "      <td>NaN</td>\n",
              "      <td>11.62</td>\n",
              "      <td>NaN</td>\n",
              "      <td>NaN</td>\n",
              "      <td>NaN</td>\n",
              "      <td>NaN</td>\n",
              "    </tr>\n",
              "    <tr>\n",
              "      <th>1</th>\n",
              "      <td>ABW</td>\n",
              "      <td>Aruba</td>\n",
              "      <td>2020-03-20</td>\n",
              "      <td>4</td>\n",
              "      <td>2</td>\n",
              "      <td>0</td>\n",
              "      <td>0</td>\n",
              "      <td>37.465</td>\n",
              "      <td>18.733</td>\n",
              "      <td>0.0</td>\n",
              "      <td>0.0</td>\n",
              "      <td>NaN</td>\n",
              "      <td>NaN</td>\n",
              "      <td>NaN</td>\n",
              "      <td>NaN</td>\n",
              "      <td>NaN</td>\n",
              "      <td>106766.0</td>\n",
              "      <td>584.8</td>\n",
              "      <td>41.2</td>\n",
              "      <td>13.085</td>\n",
              "      <td>7.452</td>\n",
              "      <td>35973.781</td>\n",
              "      <td>NaN</td>\n",
              "      <td>NaN</td>\n",
              "      <td>11.62</td>\n",
              "      <td>NaN</td>\n",
              "      <td>NaN</td>\n",
              "      <td>NaN</td>\n",
              "      <td>NaN</td>\n",
              "    </tr>\n",
              "    <tr>\n",
              "      <th>2</th>\n",
              "      <td>ABW</td>\n",
              "      <td>Aruba</td>\n",
              "      <td>2020-03-24</td>\n",
              "      <td>12</td>\n",
              "      <td>8</td>\n",
              "      <td>0</td>\n",
              "      <td>0</td>\n",
              "      <td>112.395</td>\n",
              "      <td>74.930</td>\n",
              "      <td>0.0</td>\n",
              "      <td>0.0</td>\n",
              "      <td>NaN</td>\n",
              "      <td>NaN</td>\n",
              "      <td>NaN</td>\n",
              "      <td>NaN</td>\n",
              "      <td>NaN</td>\n",
              "      <td>106766.0</td>\n",
              "      <td>584.8</td>\n",
              "      <td>41.2</td>\n",
              "      <td>13.085</td>\n",
              "      <td>7.452</td>\n",
              "      <td>35973.781</td>\n",
              "      <td>NaN</td>\n",
              "      <td>NaN</td>\n",
              "      <td>11.62</td>\n",
              "      <td>NaN</td>\n",
              "      <td>NaN</td>\n",
              "      <td>NaN</td>\n",
              "      <td>NaN</td>\n",
              "    </tr>\n",
              "    <tr>\n",
              "      <th>3</th>\n",
              "      <td>ABW</td>\n",
              "      <td>Aruba</td>\n",
              "      <td>2020-03-25</td>\n",
              "      <td>17</td>\n",
              "      <td>5</td>\n",
              "      <td>0</td>\n",
              "      <td>0</td>\n",
              "      <td>159.227</td>\n",
              "      <td>46.831</td>\n",
              "      <td>0.0</td>\n",
              "      <td>0.0</td>\n",
              "      <td>NaN</td>\n",
              "      <td>NaN</td>\n",
              "      <td>NaN</td>\n",
              "      <td>NaN</td>\n",
              "      <td>NaN</td>\n",
              "      <td>106766.0</td>\n",
              "      <td>584.8</td>\n",
              "      <td>41.2</td>\n",
              "      <td>13.085</td>\n",
              "      <td>7.452</td>\n",
              "      <td>35973.781</td>\n",
              "      <td>NaN</td>\n",
              "      <td>NaN</td>\n",
              "      <td>11.62</td>\n",
              "      <td>NaN</td>\n",
              "      <td>NaN</td>\n",
              "      <td>NaN</td>\n",
              "      <td>NaN</td>\n",
              "    </tr>\n",
              "    <tr>\n",
              "      <th>4</th>\n",
              "      <td>ABW</td>\n",
              "      <td>Aruba</td>\n",
              "      <td>2020-03-26</td>\n",
              "      <td>19</td>\n",
              "      <td>2</td>\n",
              "      <td>0</td>\n",
              "      <td>0</td>\n",
              "      <td>177.959</td>\n",
              "      <td>18.733</td>\n",
              "      <td>0.0</td>\n",
              "      <td>0.0</td>\n",
              "      <td>NaN</td>\n",
              "      <td>NaN</td>\n",
              "      <td>NaN</td>\n",
              "      <td>NaN</td>\n",
              "      <td>NaN</td>\n",
              "      <td>106766.0</td>\n",
              "      <td>584.8</td>\n",
              "      <td>41.2</td>\n",
              "      <td>13.085</td>\n",
              "      <td>7.452</td>\n",
              "      <td>35973.781</td>\n",
              "      <td>NaN</td>\n",
              "      <td>NaN</td>\n",
              "      <td>11.62</td>\n",
              "      <td>NaN</td>\n",
              "      <td>NaN</td>\n",
              "      <td>NaN</td>\n",
              "      <td>NaN</td>\n",
              "    </tr>\n",
              "  </tbody>\n",
              "</table>\n",
              "</div>"
            ],
            "text/plain": [
              "  iso_code location  ... handwashing_facilities  hospital_beds_per_100k\n",
              "0      ABW    Aruba  ...                    NaN                     NaN\n",
              "1      ABW    Aruba  ...                    NaN                     NaN\n",
              "2      ABW    Aruba  ...                    NaN                     NaN\n",
              "3      ABW    Aruba  ...                    NaN                     NaN\n",
              "4      ABW    Aruba  ...                    NaN                     NaN\n",
              "\n",
              "[5 rows x 29 columns]"
            ]
          },
          "metadata": {
            "tags": []
          },
          "execution_count": 7
        }
      ]
    },
    {
      "cell_type": "code",
      "metadata": {
        "id": "1tsI5kF_pQGc",
        "colab_type": "code",
        "outputId": "173a55b0-c448-4f66-92a7-a4d121107838",
        "colab": {
          "base_uri": "https://localhost:8080/",
          "height": 35
        }
      },
      "source": [
        "print(datetime.datetime(2020, 3, 3))\n",
        "# print(data[\"date\"][0].timestamp())"
      ],
      "execution_count": 8,
      "outputs": [
        {
          "output_type": "stream",
          "text": [
            "2020-03-03 00:00:00\n"
          ],
          "name": "stdout"
        }
      ]
    },
    {
      "cell_type": "code",
      "metadata": {
        "id": "g_PqlXeflQxa",
        "colab_type": "code",
        "colab": {}
      },
      "source": [
        "def filter_data(iso_code = \"RUS\", from_date = datetime.datetime(2020, 3, 3)):\n",
        "  return data[(data['iso_code'] == iso_code) & (data['date'] >= from_date)]"
      ],
      "execution_count": 0,
      "outputs": []
    },
    {
      "cell_type": "code",
      "metadata": {
        "id": "0YCXDI7nn-Yp",
        "colab_type": "code",
        "outputId": "611c27b2-c9c6-4046-a0f8-3716cdae9d31",
        "colab": {
          "base_uri": "https://localhost:8080/",
          "height": 309
        }
      },
      "source": [
        "rus_data = filter_data()\n",
        "rus_data.head()"
      ],
      "execution_count": 10,
      "outputs": [
        {
          "output_type": "execute_result",
          "data": {
            "text/html": [
              "<div>\n",
              "<style scoped>\n",
              "    .dataframe tbody tr th:only-of-type {\n",
              "        vertical-align: middle;\n",
              "    }\n",
              "\n",
              "    .dataframe tbody tr th {\n",
              "        vertical-align: top;\n",
              "    }\n",
              "\n",
              "    .dataframe thead th {\n",
              "        text-align: right;\n",
              "    }\n",
              "</style>\n",
              "<table border=\"1\" class=\"dataframe\">\n",
              "  <thead>\n",
              "    <tr style=\"text-align: right;\">\n",
              "      <th></th>\n",
              "      <th>iso_code</th>\n",
              "      <th>location</th>\n",
              "      <th>date</th>\n",
              "      <th>total_cases</th>\n",
              "      <th>new_cases</th>\n",
              "      <th>total_deaths</th>\n",
              "      <th>new_deaths</th>\n",
              "      <th>total_cases_per_million</th>\n",
              "      <th>new_cases_per_million</th>\n",
              "      <th>total_deaths_per_million</th>\n",
              "      <th>new_deaths_per_million</th>\n",
              "      <th>total_tests</th>\n",
              "      <th>new_tests</th>\n",
              "      <th>total_tests_per_thousand</th>\n",
              "      <th>new_tests_per_thousand</th>\n",
              "      <th>tests_units</th>\n",
              "      <th>population</th>\n",
              "      <th>population_density</th>\n",
              "      <th>median_age</th>\n",
              "      <th>aged_65_older</th>\n",
              "      <th>aged_70_older</th>\n",
              "      <th>gdp_per_capita</th>\n",
              "      <th>extreme_poverty</th>\n",
              "      <th>cvd_death_rate</th>\n",
              "      <th>diabetes_prevalence</th>\n",
              "      <th>female_smokers</th>\n",
              "      <th>male_smokers</th>\n",
              "      <th>handwashing_facilities</th>\n",
              "      <th>hospital_beds_per_100k</th>\n",
              "    </tr>\n",
              "  </thead>\n",
              "  <tbody>\n",
              "    <tr>\n",
              "      <th>13775</th>\n",
              "      <td>RUS</td>\n",
              "      <td>Russia</td>\n",
              "      <td>2020-03-03</td>\n",
              "      <td>3</td>\n",
              "      <td>1</td>\n",
              "      <td>0</td>\n",
              "      <td>0</td>\n",
              "      <td>0.021</td>\n",
              "      <td>0.007</td>\n",
              "      <td>0.0</td>\n",
              "      <td>0.0</td>\n",
              "      <td>NaN</td>\n",
              "      <td>NaN</td>\n",
              "      <td>NaN</td>\n",
              "      <td>NaN</td>\n",
              "      <td>NaN</td>\n",
              "      <td>145934460.0</td>\n",
              "      <td>8.823</td>\n",
              "      <td>39.6</td>\n",
              "      <td>14.178</td>\n",
              "      <td>9.393</td>\n",
              "      <td>24765.954</td>\n",
              "      <td>0.1</td>\n",
              "      <td>431.297</td>\n",
              "      <td>6.18</td>\n",
              "      <td>23.4</td>\n",
              "      <td>58.3</td>\n",
              "      <td>NaN</td>\n",
              "      <td>8.05</td>\n",
              "    </tr>\n",
              "    <tr>\n",
              "      <th>13776</th>\n",
              "      <td>RUS</td>\n",
              "      <td>Russia</td>\n",
              "      <td>2020-03-04</td>\n",
              "      <td>4</td>\n",
              "      <td>1</td>\n",
              "      <td>0</td>\n",
              "      <td>0</td>\n",
              "      <td>0.027</td>\n",
              "      <td>0.007</td>\n",
              "      <td>0.0</td>\n",
              "      <td>0.0</td>\n",
              "      <td>NaN</td>\n",
              "      <td>NaN</td>\n",
              "      <td>NaN</td>\n",
              "      <td>NaN</td>\n",
              "      <td>NaN</td>\n",
              "      <td>145934460.0</td>\n",
              "      <td>8.823</td>\n",
              "      <td>39.6</td>\n",
              "      <td>14.178</td>\n",
              "      <td>9.393</td>\n",
              "      <td>24765.954</td>\n",
              "      <td>0.1</td>\n",
              "      <td>431.297</td>\n",
              "      <td>6.18</td>\n",
              "      <td>23.4</td>\n",
              "      <td>58.3</td>\n",
              "      <td>NaN</td>\n",
              "      <td>8.05</td>\n",
              "    </tr>\n",
              "    <tr>\n",
              "      <th>13777</th>\n",
              "      <td>RUS</td>\n",
              "      <td>Russia</td>\n",
              "      <td>2020-03-05</td>\n",
              "      <td>4</td>\n",
              "      <td>0</td>\n",
              "      <td>0</td>\n",
              "      <td>0</td>\n",
              "      <td>0.027</td>\n",
              "      <td>0.000</td>\n",
              "      <td>0.0</td>\n",
              "      <td>0.0</td>\n",
              "      <td>46414.0</td>\n",
              "      <td>NaN</td>\n",
              "      <td>0.318</td>\n",
              "      <td>NaN</td>\n",
              "      <td>tests performed</td>\n",
              "      <td>145934460.0</td>\n",
              "      <td>8.823</td>\n",
              "      <td>39.6</td>\n",
              "      <td>14.178</td>\n",
              "      <td>9.393</td>\n",
              "      <td>24765.954</td>\n",
              "      <td>0.1</td>\n",
              "      <td>431.297</td>\n",
              "      <td>6.18</td>\n",
              "      <td>23.4</td>\n",
              "      <td>58.3</td>\n",
              "      <td>NaN</td>\n",
              "      <td>8.05</td>\n",
              "    </tr>\n",
              "    <tr>\n",
              "      <th>13778</th>\n",
              "      <td>RUS</td>\n",
              "      <td>Russia</td>\n",
              "      <td>2020-03-06</td>\n",
              "      <td>4</td>\n",
              "      <td>0</td>\n",
              "      <td>0</td>\n",
              "      <td>0</td>\n",
              "      <td>0.027</td>\n",
              "      <td>0.000</td>\n",
              "      <td>0.0</td>\n",
              "      <td>0.0</td>\n",
              "      <td>51366.0</td>\n",
              "      <td>4952.0</td>\n",
              "      <td>0.352</td>\n",
              "      <td>0.034</td>\n",
              "      <td>tests performed</td>\n",
              "      <td>145934460.0</td>\n",
              "      <td>8.823</td>\n",
              "      <td>39.6</td>\n",
              "      <td>14.178</td>\n",
              "      <td>9.393</td>\n",
              "      <td>24765.954</td>\n",
              "      <td>0.1</td>\n",
              "      <td>431.297</td>\n",
              "      <td>6.18</td>\n",
              "      <td>23.4</td>\n",
              "      <td>58.3</td>\n",
              "      <td>NaN</td>\n",
              "      <td>8.05</td>\n",
              "    </tr>\n",
              "    <tr>\n",
              "      <th>13779</th>\n",
              "      <td>RUS</td>\n",
              "      <td>Russia</td>\n",
              "      <td>2020-03-07</td>\n",
              "      <td>10</td>\n",
              "      <td>6</td>\n",
              "      <td>0</td>\n",
              "      <td>0</td>\n",
              "      <td>0.069</td>\n",
              "      <td>0.041</td>\n",
              "      <td>0.0</td>\n",
              "      <td>0.0</td>\n",
              "      <td>55688.0</td>\n",
              "      <td>4322.0</td>\n",
              "      <td>0.382</td>\n",
              "      <td>0.030</td>\n",
              "      <td>tests performed</td>\n",
              "      <td>145934460.0</td>\n",
              "      <td>8.823</td>\n",
              "      <td>39.6</td>\n",
              "      <td>14.178</td>\n",
              "      <td>9.393</td>\n",
              "      <td>24765.954</td>\n",
              "      <td>0.1</td>\n",
              "      <td>431.297</td>\n",
              "      <td>6.18</td>\n",
              "      <td>23.4</td>\n",
              "      <td>58.3</td>\n",
              "      <td>NaN</td>\n",
              "      <td>8.05</td>\n",
              "    </tr>\n",
              "  </tbody>\n",
              "</table>\n",
              "</div>"
            ],
            "text/plain": [
              "      iso_code location  ... handwashing_facilities  hospital_beds_per_100k\n",
              "13775      RUS   Russia  ...                    NaN                    8.05\n",
              "13776      RUS   Russia  ...                    NaN                    8.05\n",
              "13777      RUS   Russia  ...                    NaN                    8.05\n",
              "13778      RUS   Russia  ...                    NaN                    8.05\n",
              "13779      RUS   Russia  ...                    NaN                    8.05\n",
              "\n",
              "[5 rows x 29 columns]"
            ]
          },
          "metadata": {
            "tags": []
          },
          "execution_count": 10
        }
      ]
    },
    {
      "cell_type": "code",
      "metadata": {
        "id": "Z8FYyGO0vOEN",
        "colab_type": "code",
        "colab": {}
      },
      "source": [
        "def print_data(data):\n",
        "  _, ax = plt.subplots()\n",
        "  ax.plot(data['date'], data['new_cases'], label = \"cases\")\n",
        "  ax.plot(data['date'], data['new_deaths'], label = \"deaths\")\n",
        "  ax.plot(data['date'], data['new_tests'], label = \"tests\")\n",
        "  ax.set(title='Sequential')\n",
        "  ax.grid()\n",
        "  ax.set_yscale(\"log\")\n",
        "  plt.legend()\n",
        "  plt.show()\n",
        "\n",
        "  _, ax = plt.subplots()\n",
        "  ax.plot(data['date'], data['total_cases'], label = \"cases\")\n",
        "  ax.plot(data['date'], data['total_deaths'], label = \"deaths\")\n",
        "  ax.plot(data['date'], data['total_tests'], label = \"tests\")\n",
        "  ax.set(title='Cumulative')\n",
        "  ax.grid()\n",
        "  ax.set_yscale(\"log\")\n",
        "  plt.legend()\n",
        "  plt.show()"
      ],
      "execution_count": 0,
      "outputs": []
    },
    {
      "cell_type": "code",
      "metadata": {
        "id": "-Rr_gUC8x6dV",
        "colab_type": "code",
        "outputId": "857be227-2d18-4dc9-cbac-ee978db413a4",
        "colab": {
          "base_uri": "https://localhost:8080/",
          "height": 545
        }
      },
      "source": [
        "print_data(rus_data)"
      ],
      "execution_count": 12,
      "outputs": [
        {
          "output_type": "display_data",
          "data": {
            "image/png": "[encoded data removed]",
            "text/plain": [
              "<Figure size 432x288 with 1 Axes>"
            ]
          },
          "metadata": {
            "tags": [],
            "needs_background": "light"
          }
        },
        {
          "output_type": "display_data",
          "data": {
            "image/png": "[encoded data removed]",
            "text/plain": [
              "<Figure size 432x288 with 1 Axes>"
            ]
          },
          "metadata": {
            "tags": [],
            "needs_background": "light"
          }
        }
      ]
    },
    {
      "cell_type": "markdown",
      "metadata": {
        "id": "7rhqkbfAiTXV",
        "colab_type": "text"
      },
      "source": [
        "2.a. Используя линейную регрессию, обучите модель с экспоненциальным ростом числа заболевших:  \n",
        " y ~ exp(линейная функция от x), где x — номер текущего дня.\n",
        "\n",
        " Решим эту задачу как ln (y) ~ ax + b"
      ]
    },
    {
      "cell_type": "code",
      "metadata": {
        "id": "MZR4FgLkD_CC",
        "colab_type": "code",
        "colab": {}
      },
      "source": [
        "def prepare_data(data):\n",
        "  train = data[:50]\n",
        "  test = data[50:]\n",
        "  train_y = train['total_cases'].apply(lambda x: math.log(x)).to_numpy()\n",
        "  train_x = np.asarray(range(0, train_y.size), dtype = np.int32)\n",
        "  test_y = test['total_cases'].apply(lambda x: math.log(x)).to_numpy()\n",
        "  test_x = np.asarray(range(train_y.size, test_y.size + train_y.size), dtype = np.int32)\n",
        "  return train_x, train_y, test_x, test_y"
      ],
      "execution_count": 0,
      "outputs": []
    },
    {
      "cell_type": "code",
      "metadata": {
        "id": "c4r_KoZd74d0",
        "colab_type": "code",
        "colab": {}
      },
      "source": [
        "def train_linear(data):\n",
        "  train_x, train_y, test_x, test_y = prepare_data(rus_data)\n",
        "  model = linear_model.LinearRegression(fit_intercept=True).fit(train_x.reshape(-1, 1), train_y)\n",
        "  train_tredict = model.predict(train_x.reshape(-1, 1))\n",
        "  test_predict = model.predict(test_x.reshape(-1, 1))\n",
        "\n",
        "  _, ax = plt.subplots()\n",
        "  ax.plot(test_x, test_y, label = \"test_x\")\n",
        "  ax.plot(train_x, train_y, label = \"train_x\")\n",
        "  ax.plot(test_x, test_predict, label = \"test_x_predict\")\n",
        "  ax.plot(train_x, train_tredict, label = \"train_x_tredict\")\n",
        "  ax.set(title='Sigmoid prediction')\n",
        "  ax.grid()\n",
        "  plt.legend()\n",
        "  plt.show()\n",
        "  return model"
      ],
      "execution_count": 0,
      "outputs": []
    },
    {
      "cell_type": "markdown",
      "metadata": {
        "id": "-TrmW5_mhZ5y",
        "colab_type": "text"
      },
      "source": [
        "Я решил не выходить из логарифмических координат, и в них все весьма наглядно:"
      ]
    },
    {
      "cell_type": "code",
      "metadata": {
        "id": "-jJOkTFf-uy0",
        "colab_type": "code",
        "outputId": "a9f48803-91e5-483d-8852-c5b695db5155",
        "colab": {
          "base_uri": "https://localhost:8080/",
          "height": 281
        }
      },
      "source": [
        "rus_model = train_linear(rus_data)"
      ],
      "execution_count": 15,
      "outputs": [
        {
          "output_type": "display_data",
          "data": {
            "image/png": "[encoded data removed]",
            "text/plain": [
              "<Figure size 432x288 with 1 Axes>"
            ]
          },
          "metadata": {
            "tags": [],
            "needs_background": "light"
          }
        }
      ]
    },
    {
      "cell_type": "markdown",
      "metadata": {
        "id": "XpJw5Vs6hWYu",
        "colab_type": "text"
      },
      "source": [
        "2.b. Найдите апостериорное распределение параметров этой модели для достаточно широкого априорного распределения. Требующееся для этого значение дисперсии шума в данных оцените, исходя из вашей же максимальной апостериорной модели (это фактически первый шаг эмпирического Байеса)."
      ]
    },
    {
      "cell_type": "code",
      "metadata": {
        "id": "CQMDd8Yuor8_",
        "colab_type": "code",
        "outputId": "10d78005-9af2-4ba0-ab1a-c5509ffd0668",
        "colab": {
          "base_uri": "https://localhost:8080/",
          "height": 313
        }
      },
      "source": [
        "# alpha - коэффициент Ridge регуляризатора\n",
        "# beta - величина, обратная дисперсии\n",
        "# логарифм апостериорного распределения гиперпараметров alpha beta\n",
        "# так как p(a,b) рассматриваем как равномерное, то \n",
        "# апостериорное распределение гиперпараметров alpha beta пропорционально правдоподобию alpha и beta при условии точки данных\n",
        "def ab_posterior(alpha, beta, X, Y, N):\n",
        "  A = beta * (X.T @ X) + alpha\n",
        "  m_N = beta * (X.T @ Y) / A\n",
        "  return math.log(alpha) / 2 + math.log(beta) * N / 2 \\\n",
        "        - beta / 2 * (Y - X * m_N).T @ (Y - X * m_N) \\\n",
        "        - alpha / 2 * m_N * m_N \\\n",
        "        - math.log(abs(A)) / 2 - N / 2 * math.log(2 * 3.14)\n",
        "\n",
        "# просуммировать ab_posterior по всем точкам данных\n",
        "# используя текущую модель\n",
        "def ab_posterior_vectorized(model, prepare_data, point_num = 100):\n",
        "  probs_alpha = np.arange(0.001, 10.001, 10 / point_num)\n",
        "  probs_beta = np.arange(0.001, 20.001, 20 / point_num)\n",
        "  train_x, train_y, test_x, test_y = prepare_data(rus_data)\n",
        "  test_predict = model.predict(train_x.reshape(-1, 1))\n",
        "  sq_sum = 0\n",
        "  for k in range(train_x.size):\n",
        "    sq_sum = sq_sum + (train_y[k] - test_predict[k]) * (train_y[k] - test_predict[k])\n",
        "  result = np.zeros(shape=(point_num, point_num))\n",
        "  for i in range(point_num):\n",
        "    for j in range(point_num):\n",
        "      result[i][j] = ab_posterior(probs_alpha[i], probs_beta[j], train_x, train_y, train_x.size)\n",
        "  return result, train_x.size, (train_x.size - 1) / sq_sum\n",
        "\n",
        "# построить heatmap\n",
        "def plot_heatmap(Z, title, point_num):\n",
        "    plt.xlim((0, 10))\n",
        "    plt.ylim((0, 20))\n",
        "    X = np.linspace(0, 10, point_num)\n",
        "    Y = np.linspace(0, 20, point_num)\n",
        "    plt.pcolormesh(X, Y, Z, cmap=plt.cm.jet)\n",
        "    plt.title(title)\n",
        "    plt.xlabel(\"alpha\")\n",
        "    plt.ylabel(\"beta\")\n",
        "    plt.show()\n",
        "\n",
        "# построить тепловую карту взаимного распределения apha и beta\n",
        "def ab_posterior_heatmap(model, prepare_data, point_num = 100):\n",
        "    Z, total_idx, current_beta = ab_posterior_vectorized(model, prepare_data, point_num)\n",
        "    print(\"Значение beta для текущей модели\", current_beta)\n",
        "\n",
        "    plot_heatmap(Z, \"Правдоподобие ln p(D | alpha, beta)\", point_num)\n",
        "\n",
        "ab_posterior_heatmap(rus_model, prepare_data)"
      ],
      "execution_count": 16,
      "outputs": [
        {
          "output_type": "stream",
          "text": [
            "Значение beta для текущей модели 7.610294030858801\n"
          ],
          "name": "stdout"
        },
        {
          "output_type": "display_data",
          "data": {
            "image/png": "[encoded data removed]",
            "text/plain": [
              "<Figure size 432x288 with 1 Axes>"
            ]
          },
          "metadata": {
            "tags": [],
            "needs_background": "light"
          }
        }
      ]
    },
    {
      "cell_type": "markdown",
      "metadata": {
        "id": "U2rGQr8uHUJr",
        "colab_type": "text"
      },
      "source": [
        "Максимум alpha расположен близко к нулю, что логично для линейной регрессии с 2 весами. \n",
        "\n",
        "Как интерпретировать тот факт, что beta не имеет явно выраженного максимума, совпадающего со значением beta для текущей (оптимальной) модели, я не знаю.\n",
        "\n",
        "Также есть проблема с независимостью точек данных - в расчете они независимые, а в действительности они составляют числовой ряд."
      ]
    },
    {
      "cell_type": "markdown",
      "metadata": {
        "id": "WH6hh2ZSCOce",
        "colab_type": "text"
      },
      "source": [
        "2.с. Посэмплируйте много разных экспонент, постройте графики. Сколько, исходя из этих сэмплов, предсказывается случаев коронавируса в России к 1 мая? к 1 июня? к 1 сентября? Постройте предсказательные распределения (можно эмпирически, исходя из данных сэмплирования)."
      ]
    },
    {
      "cell_type": "code",
      "metadata": {
        "id": "at6m-XAOznL9",
        "colab_type": "code",
        "outputId": "0f842345-2ba3-4e00-e51f-4f19c1a49cb6",
        "colab": {
          "base_uri": "https://localhost:8080/",
          "height": 368
        }
      },
      "source": [
        "def sample(x, y):\n",
        "  xs = []\n",
        "  ys = []\n",
        "  for i in range(x.size):\n",
        "    if random.random() > 0.8:\n",
        "      xs.append(x[i])\n",
        "      ys.append(y[i])\n",
        "  return np.asarray(xs, dtype = np.int32), np.asarray(ys)\n",
        "\n",
        "def days_between(d1, d2):\n",
        "  return abs((d2 - d1).days)\n",
        "\n",
        "def mean_variance_as_string(sample):\n",
        "  sample = np.asarray(sample)\n",
        "  return str(round(math.exp(sample.mean()))) + \"+-\" + str(round(math.exp(sample.mean() + sample.std()) - math.exp(sample.mean())))\n",
        "\n",
        "def sample_train_plot(data):\n",
        "  y = data['total_cases'].apply(lambda x: math.log(x)).to_numpy()\n",
        "  x = np.asarray(range(0, y.size), dtype = np.int32)\n",
        "  \n",
        "  fig = plt.figure()\n",
        "  ax = fig.add_subplot(111)\n",
        "  ax.plot(x, y, linewidth=2, label=\"Original function\", color=\"black\")\n",
        "\n",
        "  dates = [ \\\n",
        "           days_between(datetime.datetime(2020, 5, 1), datetime.datetime(2020, 3, 3)), \\\n",
        "           days_between(datetime.datetime(2020, 7, 1), datetime.datetime(2020, 3, 3)), \\\n",
        "           days_between(datetime.datetime(2020, 9, 1), datetime.datetime(2020, 3, 3)) \\\n",
        "          ]\n",
        "  date_samples = [[], [], []]\n",
        "  print(dates)\n",
        "\n",
        "  x_predict = np.asarray(range(0, 200), dtype = np.int32)\n",
        "  res = []\n",
        "  for _ in range(50):\n",
        "      xs, ys = sample(x, y)\n",
        "      model = linear_model.LinearRegression(fit_intercept=True).fit(xs.reshape(-1, 1), ys)\n",
        "      res.append(model.predict(x_predict.reshape(-1, 1)))\n",
        "      ax.plot(x_predict, res[-1], linewidth=.1, color=\"0.5\")\n",
        "      for i in range(len(dates)):\n",
        "        date_samples[i].append(res[-1][dates[i]])\n",
        "\n",
        "  ax.legend(loc=\"upper center\")\n",
        "  plt.title('Апостериорное предиктивное распределение')\n",
        "  plt.show()\n",
        "\n",
        "  print(\"Прогноз заболеваемости\")\n",
        "  print(\"1 мая \" + mean_variance_as_string(date_samples[0]))\n",
        "  print(\"1 июля \" + mean_variance_as_string(date_samples[1]))\n",
        "  print(\"1 сентября \" + mean_variance_as_string(date_samples[2]))\n",
        "\n",
        "sample_train_plot(rus_data)"
      ],
      "execution_count": 17,
      "outputs": [
        {
          "output_type": "stream",
          "text": [
            "[59, 120, 182]\n"
          ],
          "name": "stdout"
        },
        {
          "output_type": "display_data",
          "data": {
            "image/png": "[encoded data removed]",
            "text/plain": [
              "<Figure size 432x288 with 1 Axes>"
            ]
          },
          "metadata": {
            "tags": [],
            "needs_background": "light"
          }
        },
        {
          "output_type": "stream",
          "text": [
            "Прогноз заболеваемости\n",
            "1 мая 136220+-44139\n",
            "1 июля 2450416488+-3459596250\n",
            "1 сентября 51759801521505+-184851298799960\n"
          ],
          "name": "stdout"
        }
      ]
    },
    {
      "cell_type": "markdown",
      "metadata": {
        "id": "DJ4GjhBACYxY",
        "colab_type": "text"
      },
      "source": [
        "3. Предсказания экспоненциальной модели наверняка получились грустными. Но это, конечно, чересчур пессимистично — экспоненциальный рост в природе никак не может продолжаться вечно. Кривая общего числа заболевших во время эпидемии в реальности имеет сигмоидальный вид: после начальной фазы экспоненциального роста неизбежно происходит насыщение. В качестве конкретной формы такой сигмоиды давайте возьмём форму функции распределения для гауссиана:\n",
        "$ \\Phi(x) = \\frac{1}{\\sqrt{2 \\pi}}\\int_{-\\infty}^{x}{e^{\\frac{-t^2}{2}}dt}$  \n",
        "Естественно, в нашем случае сигмоида стремится не к единице, т.е. константа перед интегралом может быть произвольной (и её можно внести в экспоненту), а в экспоненте под интегралом может быть произвольная квадратичная функция от t."
      ]
    },
    {
      "cell_type": "markdown",
      "metadata": {
        "id": "Q7cwEnkIPo_g",
        "colab_type": "text"
      },
      "source": [
        "3.a. Предложите способ обучать параметры такой сигмоидальной функции при помощи линейной регрессии."
      ]
    },
    {
      "cell_type": "markdown",
      "metadata": {
        "id": "OayHCUN_-Ool",
        "colab_type": "text"
      },
      "source": [
        "По условию имеем\n",
        "$ y(x) = \\int_{0}^{x}{e^{at^2 + bt +c}dt}$  \n",
        "Вместо кумулятивной функции будем строить регрессию для собственно гауссианы:  \n",
        "$y'(x) = e^{ax^2 + bx +c}$  \n",
        "что означает, что вместо поля `total_cases` нужно использовать поле `new_cases` как целевую переменную.\n",
        "$ln(y'(x)) = ax^2 + bx +c$ "
      ]
    },
    {
      "cell_type": "code",
      "metadata": {
        "id": "YEsqU458CbJ1",
        "colab_type": "code",
        "colab": {}
      },
      "source": [
        "def prepare_data_sigmoid(data):\n",
        "  train = data[:60]\n",
        "  test = data[60:]\n",
        "  train_y = train['new_cases'].apply(lambda x: 0 if x == 0 else math.log(x)).to_numpy()\n",
        "  train_x = np.zeros((train_y.size, 3))\n",
        "  for i in range (train_y.size):\n",
        "    train_x[i][0] = 1\n",
        "    train_x[i][1] = i\n",
        "    train_x[i][2] = i * i\n",
        "  test_y = test['new_cases'].apply(lambda x: 0 if x == 0 else math.log(x)).to_numpy()\n",
        "  test_x = np.zeros((test_y.size, 3))\n",
        "  for i in range (test_y.size):\n",
        "    test_x[i][0] = 1\n",
        "    test_x[i][1] = i + train_y.size\n",
        "    test_x[i][2] = (i + train_y.size) * (i + train_y.size)\n",
        "  return train_x, train_y, test_x, test_y"
      ],
      "execution_count": 0,
      "outputs": []
    },
    {
      "cell_type": "code",
      "metadata": {
        "id": "ucQLgdWlHHmI",
        "colab_type": "code",
        "colab": {}
      },
      "source": [
        "def calc_cumulative(x, starting_summand = 0):\n",
        "  x = np.exp(x)\n",
        "  x[0] = x[0] + starting_summand\n",
        "  for i in range(1, x.size):\n",
        "    x[i] = x[i] + x[i - 1]\n",
        "  return x\n",
        "\n",
        "def train_linear_sigmoid(data):\n",
        "  train_x, train_y, test_x, test_y = prepare_data_sigmoid(data)\n",
        "  model = linear_model.LinearRegression(fit_intercept=True).fit(train_x, train_y)\n",
        "  train_predict = model.predict(train_x)\n",
        "\n",
        "  predict_x = np.zeros((150, 3))\n",
        "  offset = test_x[0][1]\n",
        "  for i in range (150):\n",
        "    predict_x[i][0] = 1\n",
        "    predict_x[i][1] = i + offset\n",
        "    predict_x[i][2] = (i + offset) * (i + offset)\n",
        "\n",
        "  test_predict = model.predict(predict_x)\n",
        "\n",
        "  train_y = calc_cumulative(train_y)\n",
        "  test_y = calc_cumulative(test_y, train_y[-1])\n",
        "  train_predict = calc_cumulative(train_predict)\n",
        "  test_predict = calc_cumulative(test_predict, train_predict[-1])\n",
        "\n",
        "  fig = plt.figure()\n",
        "  ax = fig.add_subplot(111)\n",
        "  ax.plot(test_x.T[1], test_y, label = \"test\")\n",
        "  ax.plot(train_x.T[1], train_y, label = \"train\")\n",
        "  ax.plot(predict_x.T[1], test_predict, label = \"test_predict\")\n",
        "  ax.plot(train_x.T[1], train_predict, label = \"train_predict\")\n",
        "  ax.set(title='coords')\n",
        "  ax.grid()\n",
        "  plt.legend()\n",
        "  plt.show()\n",
        "\n",
        "  return model"
      ],
      "execution_count": 0,
      "outputs": []
    },
    {
      "cell_type": "code",
      "metadata": {
        "id": "TkfcpvZhHQZ6",
        "colab_type": "code",
        "outputId": "7f2dee45-0aa8-4850-a252-411bc3f88a54",
        "colab": {
          "base_uri": "https://localhost:8080/",
          "height": 281
        }
      },
      "source": [
        "model_sigmoid = train_linear_sigmoid(rus_data)"
      ],
      "execution_count": 63,
      "outputs": [
        {
          "output_type": "display_data",
          "data": {
            "image/png": "[encoded data removed]",
            "text/plain": [
              "<Figure size 432x288 with 1 Axes>"
            ]
          },
          "metadata": {
            "tags": [],
            "needs_background": "light"
          }
        }
      ]
    },
    {
      "cell_type": "markdown",
      "metadata": {
        "id": "JxR6whXZTLL-",
        "colab_type": "text"
      },
      "source": [
        "3.b. Обучите эти параметры на датасете случаев коронавируса в России. Найдите апостериорное распределение параметров этой модели для достаточно широкого априорного распределения. Требующееся для этого значение дисперсии шума в данных оцените, исходя из вашей же максимальной апостериорной модели."
      ]
    },
    {
      "cell_type": "code",
      "metadata": {
        "id": "NHO_XIv7rYcd",
        "colab_type": "code",
        "colab": {
          "base_uri": "https://localhost:8080/",
          "height": 313
        },
        "outputId": "a9ff3ec0-be2f-4a61-8591-44c1bf72dfb4"
      },
      "source": [
        "def ab_posterior_sigmoid(alpha, beta, X, Y, N):\n",
        "  A = beta * (X.T @ X)\n",
        "  A[0][0] = A[0][0] + alpha\n",
        "  A[1][1] = A[1][1] + alpha\n",
        "  m_N = beta * A @ X.T @ Y\n",
        "  return math.log(alpha) / 2 + math.log(beta) * N / 2 \\\n",
        "        - beta / 2 * (Y - X @ m_N).T @ (Y - X @ m_N) \\\n",
        "        - alpha / 2 * m_N.T @ m_N \\\n",
        "        - math.log(abs(np.linalg.det(A))) / 2 - N / 2 * math.log(2 * 3.14)\n",
        "\n",
        "# просуммировать ab_posterior по всем точкам данных\n",
        "# используя текущую модель\n",
        "def ab_posterior_vectorized_sigmoid(model, prepare_data, point_num = 100):\n",
        "  probs_alpha = np.arange(0.001, 10.001, 10 / point_num)\n",
        "  probs_beta = np.arange(0.001, 20.001, 20 / point_num)\n",
        "  train_x, train_y, test_x, test_y = prepare_data(rus_data)\n",
        "  train_predict = model.predict(train_x)\n",
        "  sq_sum = 1\n",
        "  for k in range(train_y.size):\n",
        "    sq_sum = sq_sum + (train_y[k] - train_predict[k]) * (train_y[k] - train_predict[k])\n",
        "  result = np.zeros(shape=(point_num, point_num))\n",
        "  for i in range(point_num):\n",
        "    for j in range(point_num):\n",
        "      result[i][j] = ab_posterior_sigmoid(probs_alpha[i], probs_beta[j], train_x, train_y, train_x.size)\n",
        "  return result, train_x.size, (train_x.size - 1) / sq_sum\n",
        "\n",
        "# построить тепловую карту взаимного распределения apha и beta\n",
        "def ab_posterior_heatmap_sigmoid(model, prepare_data, point_num = 100):\n",
        "    Z, total_idx, current_beta = ab_posterior_vectorized_sigmoid(model, prepare_data, point_num)\n",
        "    print(\"Значение beta для текущей модели\", current_beta)\n",
        "    plot_heatmap(Z, \"Правдоподобие ln p(D | alpha, beta)\", point_num)\n",
        "\n",
        "ab_posterior_heatmap_sigmoid(model_sigmoid, prepare_data_sigmoid)"
      ],
      "execution_count": 21,
      "outputs": [
        {
          "output_type": "stream",
          "text": [
            "Значение beta для текущей модели 5.3870702585341155\n"
          ],
          "name": "stdout"
        },
        {
          "output_type": "display_data",
          "data": {
            "image/png": "[encoded data removed]",
            "text/plain": [
              "<Figure size 432x288 with 1 Axes>"
            ]
          },
          "metadata": {
            "tags": [],
            "needs_background": "light"
          }
        }
      ]
    },
    {
      "cell_type": "markdown",
      "metadata": {
        "id": "m7X2O-761A1a",
        "colab_type": "text"
      },
      "source": [
        "3.c. Посэмплируйте много разных сигмоид из апостериорного распределения, постройте графики. Сколько, исходя из этих сэмплов, будет всего случаев коронавируса в России? Постройте эмпирическое предсказательное распределение, нарисуйте графики. Каков ваш прогноз числа случаев коронавируса в пессимистичном сценарии (90-й процентиль в выборке числа случаев)? В оптимистичном сценарии (10-й процентиль)?"
      ]
    },
    {
      "cell_type": "markdown",
      "metadata": {
        "id": "bsL9ruybSGAv",
        "colab_type": "text"
      },
      "source": [
        "Вычислим параметры апостериорного распределения"
      ]
    },
    {
      "cell_type": "code",
      "metadata": {
        "id": "47r74z4-GVaB",
        "colab_type": "code",
        "colab": {
          "base_uri": "https://localhost:8080/",
          "height": 276
        },
        "outputId": "6343f592-d7d8-41b2-bd95-caa2198d9903"
      },
      "source": [
        "# вычислить апостериорное распределение линейной регрессии\n",
        "def get_posterior_gauss(model, data, reruns):  \n",
        "  train_x, train_y, test_x, test_y = prepare_data_sigmoid(data)\n",
        "  var = np.sum(np.square(model_sigmoid.predict(train_x) - train_y)) / (train_y.size - 1)\n",
        "  sigma_posterior = np.linalg.inv(np.eye(3) / var + (train_x.T @ train_x) / var)\n",
        "  mu_posterior = sigma_posterior @ (train_x.T @ train_y) / var\n",
        "  return scipy.stats.multivariate_normal(mean = mu_posterior, cov = sigma_posterior).rvs(size = reruns)\n",
        "\n",
        "# семплинг\n",
        "def sample_sigmoid(model, data, days = 150, reruns = 1000):\n",
        "  plato_samples = []\n",
        "  x = np.zeros((days, 3))\n",
        "  for i in range (days):\n",
        "    x[i][0] = 1\n",
        "    x[i][1] = i\n",
        "    x[i][2] = i * i\n",
        "\n",
        "  posterior_gauss = get_posterior_gauss(model, data, reruns)\n",
        "\n",
        "  for sample in posterior_gauss:\n",
        "    y = np.exp(x @ sample)\n",
        "    for i in range(1, y.size):\n",
        "      y[i] = y[i] + y[i - 1]\n",
        "    plato_samples.append(y[-1])\n",
        "    plt.plot(x[:, 1], y, linewidth=.05, color=\"0.5\")\n",
        "  y = np.exp(x @ posterior_gauss.mean(axis=0))\n",
        "  for i in range(1, y.size):\n",
        "    y[i] = y[i] + y[i - 1]\n",
        "  plt.plot(x[:, 1], y, label='expected model')\n",
        "  plt.ylabel('diseased count')\n",
        "  plt.ylim((0, 1000000))\n",
        "  plt.legend()\n",
        "  plt.show()\n",
        "\n",
        "  return plato_samples \n",
        "\n",
        "max_diseased = sample_sigmoid(sample_sigmoid, rus_data)"
      ],
      "execution_count": 22,
      "outputs": [
        {
          "output_type": "display_data",
          "data": {
            "image/png": "[encoded data removed]",
            "text/plain": [
              "<Figure size 432x288 with 1 Axes>"
            ]
          },
          "metadata": {
            "tags": [],
            "needs_background": "light"
          }
        }
      ]
    },
    {
      "cell_type": "code",
      "metadata": {
        "id": "wSsgUZQYXxcv",
        "colab_type": "code",
        "colab": {
          "base_uri": "https://localhost:8080/",
          "height": 52
        },
        "outputId": "21f272e3-42b3-4944-f5de-2226e7823565"
      },
      "source": [
        "print(\"нижний дециль \", np.percentile(max_diseased, 10))\n",
        "print(\"верхний дециль \", np.percentile(max_diseased, 90))"
      ],
      "execution_count": 23,
      "outputs": [
        {
          "output_type": "stream",
          "text": [
            "нижний дециль  268571.2542552125\n",
            "верхний дециль  1714383.3721235173\n"
          ],
          "name": "stdout"
        }
      ]
    },
    {
      "cell_type": "markdown",
      "metadata": {
        "id": "ve-07TalZikx",
        "colab_type": "text"
      },
      "source": [
        "4. Бонус: проведите такой же анализ для других стран (здесь придётся руками подобрать дни начала моделирования — коронавирус приходил в разные страны в разное время). Насколько разные параметры получаются? Можно ли разделить страны на кластеры (хотя бы чисто визуально) в зависимости от этих параметров?"
      ]
    },
    {
      "cell_type": "code",
      "metadata": {
        "id": "ANPgybmjdxo3",
        "colab_type": "code",
        "colab": {}
      },
      "source": [
        "def plot_sigmoids(descs, days = 150):\n",
        "  x = np.zeros((days, 3))\n",
        "  for i in range (days):\n",
        "    x[i][0] = 1\n",
        "    x[i][1] = i\n",
        "    x[i][2] = i * i\n",
        "\n",
        "  for i in range(len(descs)):\n",
        "    data = filter_data(descs[i][0], descs[i][1])\n",
        "    train_x, train_y, test_x, test_y = prepare_data_sigmoid(data)\n",
        "    model = linear_model.LinearRegression(fit_intercept=True).fit(train_x, train_y)\n",
        "    y = model.predict(x)\n",
        "    # делим на общее число жителей в стране\n",
        "    y = calc_cumulative(y) / data['population'].to_numpy()[0]\n",
        "    plt.plot(x[:, 1], y, label = descs[i][0])\n",
        "  plt.ylabel('diseased share of population')\n",
        "  # plt.ylim((0, 4000000))\n",
        "  plt.legend()\n",
        "  plt.show()"
      ],
      "execution_count": 0,
      "outputs": []
    },
    {
      "cell_type": "code",
      "metadata": {
        "id": "QuZAPoSTeg7e",
        "colab_type": "code",
        "colab": {
          "base_uri": "https://localhost:8080/",
          "height": 265
        },
        "outputId": "3dcdb467-f8c7-4a7f-d270-e3d34723be0b"
      },
      "source": [
        "plot_sigmoids([(\"USA\", datetime.datetime(2020, 2, 17)), \\\n",
        "               (\"RUS\", datetime.datetime(2020, 3, 2)), \\\n",
        "               (\"FRA\", datetime.datetime(2020, 2, 10)), \\\n",
        "               (\"BLR\", datetime.datetime(2020, 3, 15)), \\\n",
        "               (\"GBR\", datetime.datetime(2020, 2, 17)), \\\n",
        "               (\"CHN\", datetime.datetime(2020, 1, 25)), \\\n",
        "               (\"KOR\", datetime.datetime(2020, 2, 1)), \\\n",
        "               (\"JPN\", datetime.datetime(2020, 2, 1)), \\\n",
        "               (\"DEU\", datetime.datetime(2020, 2, 13)), \\\n",
        "               (\"ITA\", datetime.datetime(2020, 2, 4)), \\\n",
        "               ])"
      ],
      "execution_count": 131,
      "outputs": [
        {
          "output_type": "display_data",
          "data": {
            "image/png": "[encoded data removed]",
            "text/plain": [
              "<Figure size 432x288 with 1 Axes>"
            ]
          },
          "metadata": {
            "tags": [],
            "needs_background": "light"
          }
        }
      ]
    },
    {
      "cell_type": "markdown",
      "metadata": {
        "id": "1KaeBwZGpZuY",
        "colab_type": "text"
      },
      "source": [
        "Визуально разбиение на кластеры:\n",
        "\n",
        "- страны азии, которые успешно побороли болезнь `CHN`, `JPN`, `KOR`\n",
        "- западные страны, где должно заболеть 0.5-0.6% населения `USA`, `FRA`, `BLR`, `GBR`, `ITA`\n",
        "- Германия `DEU` - выброс\n",
        "- Россия `RUS` - особый путь"
      ]
    },
    {
      "cell_type": "markdown",
      "metadata": {
        "id": "yKRQHNF9mX0r",
        "colab_type": "text"
      },
      "source": [
        "Моделирование зависит от начальной точки времени, с которой начинаем считывать данные. Это очень плохо. Проблема в том, что данные не гомоскедастичны?"
      ]
    }
  ]
}